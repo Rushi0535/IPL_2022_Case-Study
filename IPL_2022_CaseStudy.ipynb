{
 "cells": [
  {
   "cell_type": "markdown",
   "metadata": {},
   "source": [
    "<img src='https://assets-in.bmscdn.com/nmcms/events/banner/desktop/media-desktop-tata-indian-premier-league-2022-0-2022-3-23-t-15-8-34.jpg' width=\"1100\" >"
   ]
  },
  {
   "cell_type": "markdown",
   "metadata": {},
   "source": [
    "# Case Study By Rushi Prajapati\n",
    "On IPL 2022 Data<br>\n",
    "Two CSVs,First of batting data and Second of bowling data"
   ]
  },
  {
   "cell_type": "code",
   "execution_count": 2,
   "metadata": {},
   "outputs": [],
   "source": [
    "#importing the libraries for Data Ananlysis/Data processing\n",
    "import pandas as pd\n",
    "# For data processing\n",
    "import numpy as np\n",
    "# For mathematical data processing\n",
    "import matplotlib.pyplot as plt\n",
    "# For data visualization"
   ]
  },
  {
   "cell_type": "markdown",
   "metadata": {},
   "source": [
    "# BATTING ANALYSIS\n"
   ]
  },
  {
   "cell_type": "code",
   "execution_count": 3,
   "metadata": {},
   "outputs": [
    {
     "data": {
      "text/html": [
       "<div>\n",
       "<style scoped>\n",
       "    .dataframe tbody tr th:only-of-type {\n",
       "        vertical-align: middle;\n",
       "    }\n",
       "\n",
       "    .dataframe tbody tr th {\n",
       "        vertical-align: top;\n",
       "    }\n",
       "\n",
       "    .dataframe thead th {\n",
       "        text-align: right;\n",
       "    }\n",
       "</style>\n",
       "<table border=\"1\" class=\"dataframe\">\n",
       "  <thead>\n",
       "    <tr style=\"text-align: right;\">\n",
       "      <th></th>\n",
       "      <th>MatchID</th>\n",
       "      <th>InningsNo</th>\n",
       "      <th>Team</th>\n",
       "      <th>PlayerName</th>\n",
       "      <th>MatchPlayingOrder</th>\n",
       "      <th>BowlerName</th>\n",
       "      <th>OutDesc</th>\n",
       "      <th>Runs</th>\n",
       "      <th>Balls</th>\n",
       "      <th>DotBalls</th>\n",
       "      <th>Ones</th>\n",
       "      <th>Twos</th>\n",
       "      <th>Threes</th>\n",
       "      <th>Fours</th>\n",
       "      <th>Sixes</th>\n",
       "      <th>StrikeRate</th>\n",
       "      <th>WicketNo</th>\n",
       "      <th>AgainstFast</th>\n",
       "      <th>AgainstSpin</th>\n",
       "    </tr>\n",
       "  </thead>\n",
       "  <tbody>\n",
       "    <tr>\n",
       "      <th>293</th>\n",
       "      <td>14</td>\n",
       "      <td>1</td>\n",
       "      <td>MI</td>\n",
       "      <td>Tymal Mills</td>\n",
       "      <td>8</td>\n",
       "      <td>NaN</td>\n",
       "      <td>NaN</td>\n",
       "      <td>0</td>\n",
       "      <td>0</td>\n",
       "      <td>0</td>\n",
       "      <td>0</td>\n",
       "      <td>0</td>\n",
       "      <td>0</td>\n",
       "      <td>0</td>\n",
       "      <td>0</td>\n",
       "      <td>-</td>\n",
       "      <td>NaN</td>\n",
       "      <td>0</td>\n",
       "      <td>0</td>\n",
       "    </tr>\n",
       "    <tr>\n",
       "      <th>975</th>\n",
       "      <td>45</td>\n",
       "      <td>1</td>\n",
       "      <td>LSG</td>\n",
       "      <td>Dushmantha Chameera</td>\n",
       "      <td>8</td>\n",
       "      <td>NaN</td>\n",
       "      <td>NaN</td>\n",
       "      <td>0</td>\n",
       "      <td>0</td>\n",
       "      <td>0</td>\n",
       "      <td>0</td>\n",
       "      <td>0</td>\n",
       "      <td>0</td>\n",
       "      <td>0</td>\n",
       "      <td>0</td>\n",
       "      <td>-</td>\n",
       "      <td>NaN</td>\n",
       "      <td>0</td>\n",
       "      <td>0</td>\n",
       "    </tr>\n",
       "    <tr>\n",
       "      <th>675</th>\n",
       "      <td>31</td>\n",
       "      <td>2</td>\n",
       "      <td>LSG</td>\n",
       "      <td>Deepak Hooda</td>\n",
       "      <td>5</td>\n",
       "      <td>Mohammed Siraj</td>\n",
       "      <td>c Suyash S Prabhudessai b Mohammed Siraj</td>\n",
       "      <td>13</td>\n",
       "      <td>14</td>\n",
       "      <td>6</td>\n",
       "      <td>5</td>\n",
       "      <td>2</td>\n",
       "      <td>0</td>\n",
       "      <td>1</td>\n",
       "      <td>0</td>\n",
       "      <td>92.86</td>\n",
       "      <td>6.0</td>\n",
       "      <td>4</td>\n",
       "      <td>10</td>\n",
       "    </tr>\n",
       "    <tr>\n",
       "      <th>631</th>\n",
       "      <td>29</td>\n",
       "      <td>2</td>\n",
       "      <td>GT</td>\n",
       "      <td>David Miller</td>\n",
       "      <td>5</td>\n",
       "      <td>NaN</td>\n",
       "      <td>not out</td>\n",
       "      <td>94</td>\n",
       "      <td>51</td>\n",
       "      <td>13</td>\n",
       "      <td>22</td>\n",
       "      <td>2</td>\n",
       "      <td>0</td>\n",
       "      <td>8</td>\n",
       "      <td>6</td>\n",
       "      <td>184.31</td>\n",
       "      <td>NaN</td>\n",
       "      <td>25</td>\n",
       "      <td>25</td>\n",
       "    </tr>\n",
       "    <tr>\n",
       "      <th>101</th>\n",
       "      <td>5</td>\n",
       "      <td>2</td>\n",
       "      <td>SRH</td>\n",
       "      <td>Rahul Tripathi</td>\n",
       "      <td>4</td>\n",
       "      <td>Prasidh Krishna</td>\n",
       "      <td>c Sanju Samson b Prasidh Krishna</td>\n",
       "      <td>0</td>\n",
       "      <td>3</td>\n",
       "      <td>3</td>\n",
       "      <td>0</td>\n",
       "      <td>0</td>\n",
       "      <td>0</td>\n",
       "      <td>0</td>\n",
       "      <td>0</td>\n",
       "      <td>0.00</td>\n",
       "      <td>2.0</td>\n",
       "      <td>3</td>\n",
       "      <td>0</td>\n",
       "    </tr>\n",
       "  </tbody>\n",
       "</table>\n",
       "</div>"
      ],
      "text/plain": [
       "     MatchID  InningsNo Team           PlayerName  MatchPlayingOrder  \\\n",
       "293       14          1   MI          Tymal Mills                  8   \n",
       "975       45          1  LSG  Dushmantha Chameera                  8   \n",
       "675       31          2  LSG         Deepak Hooda                  5   \n",
       "631       29          2   GT         David Miller                  5   \n",
       "101        5          2  SRH       Rahul Tripathi                  4   \n",
       "\n",
       "          BowlerName                                   OutDesc  Runs  Balls  \\\n",
       "293              NaN                                       NaN     0      0   \n",
       "975              NaN                                       NaN     0      0   \n",
       "675   Mohammed Siraj  c Suyash S Prabhudessai b Mohammed Siraj    13     14   \n",
       "631              NaN                                   not out    94     51   \n",
       "101  Prasidh Krishna          c Sanju Samson b Prasidh Krishna     0      3   \n",
       "\n",
       "     DotBalls  Ones  Twos  Threes  Fours  Sixes StrikeRate  WicketNo  \\\n",
       "293         0     0     0       0      0      0          -       NaN   \n",
       "975         0     0     0       0      0      0          -       NaN   \n",
       "675         6     5     2       0      1      0      92.86       6.0   \n",
       "631        13    22     2       0      8      6     184.31       NaN   \n",
       "101         3     0     0       0      0      0       0.00       2.0   \n",
       "\n",
       "     AgainstFast  AgainstSpin  \n",
       "293            0            0  \n",
       "975            0            0  \n",
       "675            4           10  \n",
       "631           25           25  \n",
       "101            3            0  "
      ]
     },
     "execution_count": 3,
     "metadata": {},
     "output_type": "execute_result"
    }
   ],
   "source": [
    "Bat_df = pd.read_csv(\"batting.csv\")\n",
    "#Reading the CSV\n",
    "Bat_df.sample(5)\n",
    "#Taking the Sample"
   ]
  },
  {
   "cell_type": "code",
   "execution_count": 4,
   "metadata": {},
   "outputs": [
    {
     "data": {
      "text/html": [
       "<div>\n",
       "<style scoped>\n",
       "    .dataframe tbody tr th:only-of-type {\n",
       "        vertical-align: middle;\n",
       "    }\n",
       "\n",
       "    .dataframe tbody tr th {\n",
       "        vertical-align: top;\n",
       "    }\n",
       "\n",
       "    .dataframe thead th {\n",
       "        text-align: right;\n",
       "    }\n",
       "</style>\n",
       "<table border=\"1\" class=\"dataframe\">\n",
       "  <thead>\n",
       "    <tr style=\"text-align: right;\">\n",
       "      <th></th>\n",
       "      <th>MatchID</th>\n",
       "      <th>InningsNo</th>\n",
       "      <th>MatchPlayingOrder</th>\n",
       "      <th>Runs</th>\n",
       "      <th>Balls</th>\n",
       "      <th>DotBalls</th>\n",
       "      <th>Ones</th>\n",
       "      <th>Twos</th>\n",
       "      <th>Threes</th>\n",
       "      <th>Fours</th>\n",
       "      <th>Sixes</th>\n",
       "      <th>WicketNo</th>\n",
       "      <th>AgainstFast</th>\n",
       "      <th>AgainstSpin</th>\n",
       "    </tr>\n",
       "  </thead>\n",
       "  <tbody>\n",
       "    <tr>\n",
       "      <th>count</th>\n",
       "      <td>1628.000000</td>\n",
       "      <td>1628.000000</td>\n",
       "      <td>1628.000000</td>\n",
       "      <td>1628.000000</td>\n",
       "      <td>1628.000000</td>\n",
       "      <td>1628.000000</td>\n",
       "      <td>1628.000000</td>\n",
       "      <td>1628.000000</td>\n",
       "      <td>1628.000000</td>\n",
       "      <td>1628.000000</td>\n",
       "      <td>1628.000000</td>\n",
       "      <td>911.000000</td>\n",
       "      <td>1628.000000</td>\n",
       "      <td>1628.000000</td>\n",
       "    </tr>\n",
       "    <tr>\n",
       "      <th>mean</th>\n",
       "      <td>37.608108</td>\n",
       "      <td>1.500000</td>\n",
       "      <td>6.000000</td>\n",
       "      <td>14.159705</td>\n",
       "      <td>10.571253</td>\n",
       "      <td>4.093980</td>\n",
       "      <td>3.921376</td>\n",
       "      <td>0.627150</td>\n",
       "      <td>0.035627</td>\n",
       "      <td>1.238943</td>\n",
       "      <td>0.652334</td>\n",
       "      <td>4.472009</td>\n",
       "      <td>6.824324</td>\n",
       "      <td>3.702703</td>\n",
       "    </tr>\n",
       "    <tr>\n",
       "      <th>std</th>\n",
       "      <td>21.547791</td>\n",
       "      <td>0.500154</td>\n",
       "      <td>3.163249</td>\n",
       "      <td>20.275401</td>\n",
       "      <td>13.142609</td>\n",
       "      <td>4.778989</td>\n",
       "      <td>5.697342</td>\n",
       "      <td>1.153994</td>\n",
       "      <td>0.201307</td>\n",
       "      <td>2.058166</td>\n",
       "      <td>1.272667</td>\n",
       "      <td>2.863763</td>\n",
       "      <td>8.534458</td>\n",
       "      <td>5.950012</td>\n",
       "    </tr>\n",
       "    <tr>\n",
       "      <th>min</th>\n",
       "      <td>1.000000</td>\n",
       "      <td>1.000000</td>\n",
       "      <td>1.000000</td>\n",
       "      <td>0.000000</td>\n",
       "      <td>0.000000</td>\n",
       "      <td>0.000000</td>\n",
       "      <td>0.000000</td>\n",
       "      <td>0.000000</td>\n",
       "      <td>0.000000</td>\n",
       "      <td>0.000000</td>\n",
       "      <td>0.000000</td>\n",
       "      <td>1.000000</td>\n",
       "      <td>0.000000</td>\n",
       "      <td>0.000000</td>\n",
       "    </tr>\n",
       "    <tr>\n",
       "      <th>25%</th>\n",
       "      <td>19.000000</td>\n",
       "      <td>1.000000</td>\n",
       "      <td>3.000000</td>\n",
       "      <td>0.000000</td>\n",
       "      <td>0.000000</td>\n",
       "      <td>0.000000</td>\n",
       "      <td>0.000000</td>\n",
       "      <td>0.000000</td>\n",
       "      <td>0.000000</td>\n",
       "      <td>0.000000</td>\n",
       "      <td>0.000000</td>\n",
       "      <td>2.000000</td>\n",
       "      <td>0.000000</td>\n",
       "      <td>0.000000</td>\n",
       "    </tr>\n",
       "    <tr>\n",
       "      <th>50%</th>\n",
       "      <td>37.500000</td>\n",
       "      <td>1.500000</td>\n",
       "      <td>6.000000</td>\n",
       "      <td>5.000000</td>\n",
       "      <td>6.000000</td>\n",
       "      <td>2.000000</td>\n",
       "      <td>1.000000</td>\n",
       "      <td>0.000000</td>\n",
       "      <td>0.000000</td>\n",
       "      <td>0.000000</td>\n",
       "      <td>0.000000</td>\n",
       "      <td>4.000000</td>\n",
       "      <td>4.000000</td>\n",
       "      <td>0.000000</td>\n",
       "    </tr>\n",
       "    <tr>\n",
       "      <th>75%</th>\n",
       "      <td>56.000000</td>\n",
       "      <td>2.000000</td>\n",
       "      <td>9.000000</td>\n",
       "      <td>22.000000</td>\n",
       "      <td>16.000000</td>\n",
       "      <td>7.000000</td>\n",
       "      <td>6.000000</td>\n",
       "      <td>1.000000</td>\n",
       "      <td>0.000000</td>\n",
       "      <td>2.000000</td>\n",
       "      <td>1.000000</td>\n",
       "      <td>6.000000</td>\n",
       "      <td>11.000000</td>\n",
       "      <td>5.000000</td>\n",
       "    </tr>\n",
       "    <tr>\n",
       "      <th>max</th>\n",
       "      <td>76.000000</td>\n",
       "      <td>2.000000</td>\n",
       "      <td>11.000000</td>\n",
       "      <td>140.000000</td>\n",
       "      <td>70.000000</td>\n",
       "      <td>28.000000</td>\n",
       "      <td>32.000000</td>\n",
       "      <td>10.000000</td>\n",
       "      <td>2.000000</td>\n",
       "      <td>13.000000</td>\n",
       "      <td>10.000000</td>\n",
       "      <td>11.000000</td>\n",
       "      <td>57.000000</td>\n",
       "      <td>30.000000</td>\n",
       "    </tr>\n",
       "  </tbody>\n",
       "</table>\n",
       "</div>"
      ],
      "text/plain": [
       "           MatchID    InningsNo  MatchPlayingOrder         Runs        Balls  \\\n",
       "count  1628.000000  1628.000000        1628.000000  1628.000000  1628.000000   \n",
       "mean     37.608108     1.500000           6.000000    14.159705    10.571253   \n",
       "std      21.547791     0.500154           3.163249    20.275401    13.142609   \n",
       "min       1.000000     1.000000           1.000000     0.000000     0.000000   \n",
       "25%      19.000000     1.000000           3.000000     0.000000     0.000000   \n",
       "50%      37.500000     1.500000           6.000000     5.000000     6.000000   \n",
       "75%      56.000000     2.000000           9.000000    22.000000    16.000000   \n",
       "max      76.000000     2.000000          11.000000   140.000000    70.000000   \n",
       "\n",
       "          DotBalls         Ones         Twos       Threes        Fours  \\\n",
       "count  1628.000000  1628.000000  1628.000000  1628.000000  1628.000000   \n",
       "mean      4.093980     3.921376     0.627150     0.035627     1.238943   \n",
       "std       4.778989     5.697342     1.153994     0.201307     2.058166   \n",
       "min       0.000000     0.000000     0.000000     0.000000     0.000000   \n",
       "25%       0.000000     0.000000     0.000000     0.000000     0.000000   \n",
       "50%       2.000000     1.000000     0.000000     0.000000     0.000000   \n",
       "75%       7.000000     6.000000     1.000000     0.000000     2.000000   \n",
       "max      28.000000    32.000000    10.000000     2.000000    13.000000   \n",
       "\n",
       "             Sixes    WicketNo  AgainstFast  AgainstSpin  \n",
       "count  1628.000000  911.000000  1628.000000  1628.000000  \n",
       "mean      0.652334    4.472009     6.824324     3.702703  \n",
       "std       1.272667    2.863763     8.534458     5.950012  \n",
       "min       0.000000    1.000000     0.000000     0.000000  \n",
       "25%       0.000000    2.000000     0.000000     0.000000  \n",
       "50%       0.000000    4.000000     4.000000     0.000000  \n",
       "75%       1.000000    6.000000    11.000000     5.000000  \n",
       "max      10.000000   11.000000    57.000000    30.000000  "
      ]
     },
     "execution_count": 4,
     "metadata": {},
     "output_type": "execute_result"
    }
   ],
   "source": [
    "Bat_df.describe()\n",
    "#For checking the Description of data in the data frame"
   ]
  },
  {
   "cell_type": "code",
   "execution_count": 5,
   "metadata": {},
   "outputs": [
    {
     "name": "stdout",
     "output_type": "stream",
     "text": [
      "<class 'pandas.core.frame.DataFrame'>\n",
      "RangeIndex: 1628 entries, 0 to 1627\n",
      "Data columns (total 19 columns):\n",
      " #   Column             Non-Null Count  Dtype  \n",
      "---  ------             --------------  -----  \n",
      " 0   MatchID            1628 non-null   int64  \n",
      " 1   InningsNo          1628 non-null   int64  \n",
      " 2   Team               1628 non-null   object \n",
      " 3   PlayerName         1628 non-null   object \n",
      " 4   MatchPlayingOrder  1628 non-null   int64  \n",
      " 5   BowlerName         912 non-null    object \n",
      " 6   OutDesc            1176 non-null   object \n",
      " 7   Runs               1628 non-null   int64  \n",
      " 8   Balls              1628 non-null   int64  \n",
      " 9   DotBalls           1628 non-null   int64  \n",
      " 10  Ones               1628 non-null   int64  \n",
      " 11  Twos               1628 non-null   int64  \n",
      " 12  Threes             1628 non-null   int64  \n",
      " 13  Fours              1628 non-null   int64  \n",
      " 14  Sixes              1628 non-null   int64  \n",
      " 15  StrikeRate         1628 non-null   object \n",
      " 16  WicketNo           911 non-null    float64\n",
      " 17  AgainstFast        1628 non-null   int64  \n",
      " 18  AgainstSpin        1628 non-null   int64  \n",
      "dtypes: float64(1), int64(13), object(5)\n",
      "memory usage: 241.8+ KB\n"
     ]
    }
   ],
   "source": [
    "Bat_df.info()\n",
    "#For checking the index dtype and column dtypes, non-null values and memory usage."
   ]
  },
  {
   "cell_type": "code",
   "execution_count": 6,
   "metadata": {},
   "outputs": [
    {
     "data": {
      "text/plain": [
       "(1628, 19)"
      ]
     },
     "execution_count": 6,
     "metadata": {},
     "output_type": "execute_result"
    }
   ],
   "source": [
    "Bat_df.shape\n",
    "#Get the number of rows and columns"
   ]
  },
  {
   "cell_type": "markdown",
   "metadata": {},
   "source": [
    "**List of the players batted in IPL 2022** "
   ]
  },
  {
   "cell_type": "code",
   "execution_count": 7,
   "metadata": {},
   "outputs": [
    {
     "data": {
      "text/plain": [
       "array(['Ruturaj  Gaikwad', 'Devon Conway', 'Robin Uthappa',\n",
       "       'Ambati Rayudu', 'Ravindra Jadeja', 'Shivam Dube', 'MS Dhoni',\n",
       "       'Dwayne Bravo', 'Adam Milne', 'Tushar Deshpande',\n",
       "       'Mitchell Santner', 'Ajinkya Rahane', 'Venkatesh Iyer',\n",
       "       'Nitish Rana', 'Shreyas Iyer', 'Sam Billings', 'Sheldon Jackson',\n",
       "       'Andre Russell', 'Sunil Narine', 'Shivam Mavi', 'Umesh Yadav',\n",
       "       'Varun Chakaravarthy', 'Rohit Sharma', 'Ishan Kishan',\n",
       "       'Anmolpreet Singh', 'Tilak Varma', 'Kieron Pollard', 'Tim David',\n",
       "       'Daniel Sams', 'Murugan Ashwin', 'Tymal Mills', 'Jasprit Bumrah',\n",
       "       'Basil Thampi', 'Prithvi Shaw', 'Tim Seifert', 'Mandeep Singh',\n",
       "       'Rishabh Pant', 'Lalit Yadav', 'Rovman Powell', 'Shardul Thakur',\n",
       "       'Axar Patel', 'Khaleel Ahmed', 'Kuldeep Yadav',\n",
       "       'Kamlesh Nagarkoti', 'Faf Du Plessis', 'Anuj Rawat', 'Virat Kohli',\n",
       "       'Dinesh Karthik', 'Sherfane Rutherford', 'David Willey',\n",
       "       'Wanindu Hasaranga', 'Shahbaz Ahmed', 'Harshal Patel',\n",
       "       'Mohammed Siraj', 'Akash Deep', 'Mayank Agarwal', 'Shikhar Dhawan',\n",
       "       'Bhanuka Rajapaksa', 'Liam Livingstone', 'Rajangad Bawa',\n",
       "       'Shahrukh Khan', 'Odean Smith', 'Rahul Chahar', 'Sandeep Sharma',\n",
       "       'Harpreet Brar', 'Arshdeep Singh', 'K L Rahul', 'Quinton De Kock',\n",
       "       'Evin Lewis', 'Manish Pandey', 'Deepak Hooda', 'Ayush Badoni',\n",
       "       'Krunal Pandya', 'Dushmantha Chameera', 'Avesh Khan',\n",
       "       'Mohsin Khan', 'Ravi Bishnoi', 'Shubman Gill', 'Matthew Wade',\n",
       "       'Vijay Shankar', 'Hardik Pandya', 'David Miller', 'Rahul Tewatia',\n",
       "       'Abhinav Manohar', 'Lockie Ferguson', 'Rashid Khan',\n",
       "       'Mohammad Shami', 'Varun Aaron', 'Jos Buttler', 'Yashasvi Jaiswal',\n",
       "       'Sanju Samson', 'Devdutt Padikkal', 'Shimron Hetmyer',\n",
       "       'Riyan Parag', 'Nathan Coulter-Nile', 'Ravichandran Ashwin',\n",
       "       'Prasidh Krishna', 'Trent Boult', 'Yuzvendra Chahal',\n",
       "       'Kane Williamson', 'Abhishek Sharma', 'Rahul Tripathi',\n",
       "       'Nicholas Pooran', 'Aiden Markram', 'Abdul Samad',\n",
       "       'Romario Shepherd', 'Washington Sundar', 'Bhuvneshwar Kumar',\n",
       "       'T Natarajan', 'Umran Malik', 'Tim Southee', 'Moeen Ali',\n",
       "       'Dwaine Pretorius', 'Mukesh Choudhary', 'Andrew Tye',\n",
       "       'Kagiso Rabada', 'Navdeep Saini', 'Mustafizur Rahman',\n",
       "       'Jitesh Sharma', 'Vaibhav Arora', 'Chris Jordan', 'Jason Holder',\n",
       "       'Dewald Brevis', 'Suryakumar Yadav', 'Pat Cummins', 'Rasikh Salam',\n",
       "       'David Warner', 'Sarfaraz Khan', 'Anrich Nortje',\n",
       "       'Krishnappa Gowtham', 'Jonny Bairstow', 'Sai Sudharsan',\n",
       "       'Darshan Nalkande', 'Maheesh Theekshana', 'Shashank Singh',\n",
       "       'Marco Jansen', 'Ramandeep Singh', 'Jaydev Unadkat',\n",
       "       'Glenn Maxwell', 'Rassie van der Dussen', 'Kuldeep Sen',\n",
       "       'Marcus Stoinis', 'Suyash S Prabhudessai', 'Josh Hazlewood',\n",
       "       'Yash Dayal', 'James Neesham', 'Aaron Finch', 'Aman Khan',\n",
       "       'Jagadeesha Suchith', 'Fabian Allen', 'Mitchell Marsh',\n",
       "       'Simran Singh', 'Wriddhiman Saha', 'Alzarri Joseph', 'Karun Nair',\n",
       "       'Obed McCoy', 'Nathan Ellis', 'Hrithik Shokeen', 'Riley Meredith',\n",
       "       'Rinku Singh', 'Rishi Dhawan', 'Daryl Mitchell', 'Rajat Patidar',\n",
       "       'B Indrajith', 'Harshit Rana', 'Chetan Sakariya', 'Mahipal Lomror',\n",
       "       'Pradeep Sangwan', 'Kumar Kartikeya Singh', 'Simarjeet Singh',\n",
       "       'Anukul Roy', 'Ripal Patel', 'Sean Abbott', 'Shreyas Gopal',\n",
       "       'Kartik Tyagi', 'Fazalhaq Farooqi', 'Srikar Bharat', 'Sai Kishore',\n",
       "       'Karan Sharma', 'Tristan Stubbs', 'Jagadeesan Narayan',\n",
       "       'Prashant Solanki', 'Matheesha Pathirana', 'Priyam Garg',\n",
       "       'Sanjay Yadav', 'Mayank Markande', 'Manan Vohra', 'Abhijeet Tomar',\n",
       "       'Siddarth Kaul', 'Prerak Mankad'], dtype=object)"
      ]
     },
     "execution_count": 7,
     "metadata": {},
     "output_type": "execute_result"
    }
   ],
   "source": [
    "Bat_df.PlayerName.unique()\n",
    "#To find the number of players who batted in IPL 2022"
   ]
  },
  {
   "cell_type": "markdown",
   "metadata": {},
   "source": [
    "**Number of Players Batted in IPL 2022**"
   ]
  },
  {
   "cell_type": "code",
   "execution_count": 8,
   "metadata": {},
   "outputs": [
    {
     "data": {
      "text/plain": [
       "190"
      ]
     },
     "execution_count": 8,
     "metadata": {},
     "output_type": "execute_result"
    }
   ],
   "source": [
    "Bat_df.PlayerName.nunique()\n",
    "#To find the List of player's name who batted in IPL 2022"
   ]
  },
  {
   "cell_type": "markdown",
   "metadata": {},
   "source": [
    "**How Many Total Sixes hitted by each Team**"
   ]
  },
  {
   "cell_type": "code",
   "execution_count": 9,
   "metadata": {},
   "outputs": [
    {
     "data": {
      "text/html": [
       "<div>\n",
       "<style scoped>\n",
       "    .dataframe tbody tr th:only-of-type {\n",
       "        vertical-align: middle;\n",
       "    }\n",
       "\n",
       "    .dataframe tbody tr th {\n",
       "        vertical-align: top;\n",
       "    }\n",
       "\n",
       "    .dataframe thead th {\n",
       "        text-align: right;\n",
       "    }\n",
       "</style>\n",
       "<table border=\"1\" class=\"dataframe\">\n",
       "  <thead>\n",
       "    <tr style=\"text-align: right;\">\n",
       "      <th></th>\n",
       "      <th>Sixes</th>\n",
       "    </tr>\n",
       "    <tr>\n",
       "      <th>Team</th>\n",
       "      <th></th>\n",
       "    </tr>\n",
       "  </thead>\n",
       "  <tbody>\n",
       "    <tr>\n",
       "      <th>CSK</th>\n",
       "      <td>103</td>\n",
       "    </tr>\n",
       "    <tr>\n",
       "      <th>DC</th>\n",
       "      <td>106</td>\n",
       "    </tr>\n",
       "    <tr>\n",
       "      <th>GT</th>\n",
       "      <td>79</td>\n",
       "    </tr>\n",
       "    <tr>\n",
       "      <th>KKR</th>\n",
       "      <td>113</td>\n",
       "    </tr>\n",
       "    <tr>\n",
       "      <th>LSG</th>\n",
       "      <td>115</td>\n",
       "    </tr>\n",
       "    <tr>\n",
       "      <th>MI</th>\n",
       "      <td>100</td>\n",
       "    </tr>\n",
       "    <tr>\n",
       "      <th>PBSK</th>\n",
       "      <td>110</td>\n",
       "    </tr>\n",
       "    <tr>\n",
       "      <th>RCB</th>\n",
       "      <td>102</td>\n",
       "    </tr>\n",
       "    <tr>\n",
       "      <th>RR</th>\n",
       "      <td>137</td>\n",
       "    </tr>\n",
       "    <tr>\n",
       "      <th>SRH</th>\n",
       "      <td>97</td>\n",
       "    </tr>\n",
       "  </tbody>\n",
       "</table>\n",
       "</div>"
      ],
      "text/plain": [
       "      Sixes\n",
       "Team       \n",
       "CSK     103\n",
       "DC      106\n",
       "GT       79\n",
       "KKR     113\n",
       "LSG     115\n",
       "MI      100\n",
       "PBSK    110\n",
       "RCB     102\n",
       "RR      137\n",
       "SRH      97"
      ]
     },
     "execution_count": 9,
     "metadata": {},
     "output_type": "execute_result"
    }
   ],
   "source": [
    "Sixes_df = Bat_df[[\"Team\",\"Sixes\"]].groupby(\"Team\").sum()\n",
    "Sixes_df"
   ]
  },
  {
   "cell_type": "markdown",
   "metadata": {},
   "source": [
    "**How Many Total Fours hitted by each Team**"
   ]
  },
  {
   "cell_type": "code",
   "execution_count": 10,
   "metadata": {},
   "outputs": [
    {
     "data": {
      "text/html": [
       "<div>\n",
       "<style scoped>\n",
       "    .dataframe tbody tr th:only-of-type {\n",
       "        vertical-align: middle;\n",
       "    }\n",
       "\n",
       "    .dataframe tbody tr th {\n",
       "        vertical-align: top;\n",
       "    }\n",
       "\n",
       "    .dataframe thead th {\n",
       "        text-align: right;\n",
       "    }\n",
       "</style>\n",
       "<table border=\"1\" class=\"dataframe\">\n",
       "  <thead>\n",
       "    <tr style=\"text-align: right;\">\n",
       "      <th></th>\n",
       "      <th>Fours</th>\n",
       "    </tr>\n",
       "    <tr>\n",
       "      <th>Team</th>\n",
       "      <th></th>\n",
       "    </tr>\n",
       "  </thead>\n",
       "  <tbody>\n",
       "    <tr>\n",
       "      <th>CSK</th>\n",
       "      <td>183</td>\n",
       "    </tr>\n",
       "    <tr>\n",
       "      <th>DC</th>\n",
       "      <td>205</td>\n",
       "    </tr>\n",
       "    <tr>\n",
       "      <th>GT</th>\n",
       "      <td>250</td>\n",
       "    </tr>\n",
       "    <tr>\n",
       "      <th>KKR</th>\n",
       "      <td>177</td>\n",
       "    </tr>\n",
       "    <tr>\n",
       "      <th>LSG</th>\n",
       "      <td>188</td>\n",
       "    </tr>\n",
       "    <tr>\n",
       "      <th>MI</th>\n",
       "      <td>173</td>\n",
       "    </tr>\n",
       "    <tr>\n",
       "      <th>PBSK</th>\n",
       "      <td>200</td>\n",
       "    </tr>\n",
       "    <tr>\n",
       "      <th>RCB</th>\n",
       "      <td>222</td>\n",
       "    </tr>\n",
       "    <tr>\n",
       "      <th>RR</th>\n",
       "      <td>249</td>\n",
       "    </tr>\n",
       "    <tr>\n",
       "      <th>SRH</th>\n",
       "      <td>170</td>\n",
       "    </tr>\n",
       "  </tbody>\n",
       "</table>\n",
       "</div>"
      ],
      "text/plain": [
       "      Fours\n",
       "Team       \n",
       "CSK     183\n",
       "DC      205\n",
       "GT      250\n",
       "KKR     177\n",
       "LSG     188\n",
       "MI      173\n",
       "PBSK    200\n",
       "RCB     222\n",
       "RR      249\n",
       "SRH     170"
      ]
     },
     "execution_count": 10,
     "metadata": {},
     "output_type": "execute_result"
    }
   ],
   "source": [
    "Fours_df = Bat_df[[\"Team\",\"Fours\"]].groupby(\"Team\").sum()\n",
    "Fours_df"
   ]
  },
  {
   "cell_type": "markdown",
   "metadata": {},
   "source": [
    "**How Many Total Dotballs played by each Team**"
   ]
  },
  {
   "cell_type": "code",
   "execution_count": 11,
   "metadata": {},
   "outputs": [
    {
     "data": {
      "text/html": [
       "<div>\n",
       "<style scoped>\n",
       "    .dataframe tbody tr th:only-of-type {\n",
       "        vertical-align: middle;\n",
       "    }\n",
       "\n",
       "    .dataframe tbody tr th {\n",
       "        vertical-align: top;\n",
       "    }\n",
       "\n",
       "    .dataframe thead th {\n",
       "        text-align: right;\n",
       "    }\n",
       "</style>\n",
       "<table border=\"1\" class=\"dataframe\">\n",
       "  <thead>\n",
       "    <tr style=\"text-align: right;\">\n",
       "      <th></th>\n",
       "      <th>DotBalls</th>\n",
       "    </tr>\n",
       "    <tr>\n",
       "      <th>Team</th>\n",
       "      <th></th>\n",
       "    </tr>\n",
       "  </thead>\n",
       "  <tbody>\n",
       "    <tr>\n",
       "      <th>CSK</th>\n",
       "      <td>653</td>\n",
       "    </tr>\n",
       "    <tr>\n",
       "      <th>DC</th>\n",
       "      <td>614</td>\n",
       "    </tr>\n",
       "    <tr>\n",
       "      <th>GT</th>\n",
       "      <td>655</td>\n",
       "    </tr>\n",
       "    <tr>\n",
       "      <th>KKR</th>\n",
       "      <td>669</td>\n",
       "    </tr>\n",
       "    <tr>\n",
       "      <th>LSG</th>\n",
       "      <td>623</td>\n",
       "    </tr>\n",
       "    <tr>\n",
       "      <th>MI</th>\n",
       "      <td>665</td>\n",
       "    </tr>\n",
       "    <tr>\n",
       "      <th>PBSK</th>\n",
       "      <td>666</td>\n",
       "    </tr>\n",
       "    <tr>\n",
       "      <th>RCB</th>\n",
       "      <td>741</td>\n",
       "    </tr>\n",
       "    <tr>\n",
       "      <th>RR</th>\n",
       "      <td>792</td>\n",
       "    </tr>\n",
       "    <tr>\n",
       "      <th>SRH</th>\n",
       "      <td>587</td>\n",
       "    </tr>\n",
       "  </tbody>\n",
       "</table>\n",
       "</div>"
      ],
      "text/plain": [
       "      DotBalls\n",
       "Team          \n",
       "CSK        653\n",
       "DC         614\n",
       "GT         655\n",
       "KKR        669\n",
       "LSG        623\n",
       "MI         665\n",
       "PBSK       666\n",
       "RCB        741\n",
       "RR         792\n",
       "SRH        587"
      ]
     },
     "execution_count": 11,
     "metadata": {},
     "output_type": "execute_result"
    }
   ],
   "source": [
    "Dotballs_df = Bat_df[[\"Team\",\"DotBalls\"]].groupby(\"Team\").sum()\n",
    "Dotballs_df"
   ]
  },
  {
   "cell_type": "markdown",
   "metadata": {},
   "source": [
    "**Graph of Teams played Total Dotballs**"
   ]
  },
  {
   "cell_type": "code",
   "execution_count": 12,
   "metadata": {},
   "outputs": [
    {
     "data": {
      "text/plain": [
       "Text(0.5, 1.0, 'Team and their Total Dotballs')"
      ]
     },
     "execution_count": 12,
     "metadata": {},
     "output_type": "execute_result"
    },
    {
     "data": {
      "image/png": "[encoded data removed]",
      "text/plain": [
       "<Figure size 432x288 with 1 Axes>"
      ]
     },
     "metadata": {
      "needs_background": "light"
     },
     "output_type": "display_data"
    }
   ],
   "source": [
    "Dotballs_df.plot.bar(color='green')\n",
    "plt.ylabel(\"Dotballs\")\n",
    "plt.title(\"Team and their Total Dotballs\")"
   ]
  },
  {
   "cell_type": "markdown",
   "metadata": {},
   "source": [
    "**Orange Cap Holder**"
   ]
  },
  {
   "cell_type": "code",
   "execution_count": 13,
   "metadata": {},
   "outputs": [
    {
     "data": {
      "text/html": [
       "<div>\n",
       "<style scoped>\n",
       "    .dataframe tbody tr th:only-of-type {\n",
       "        vertical-align: middle;\n",
       "    }\n",
       "\n",
       "    .dataframe tbody tr th {\n",
       "        vertical-align: top;\n",
       "    }\n",
       "\n",
       "    .dataframe thead th {\n",
       "        text-align: right;\n",
       "    }\n",
       "</style>\n",
       "<table border=\"1\" class=\"dataframe\">\n",
       "  <thead>\n",
       "    <tr style=\"text-align: right;\">\n",
       "      <th></th>\n",
       "      <th>Runs</th>\n",
       "      <th>Fours</th>\n",
       "      <th>Sixes</th>\n",
       "      <th>Ones</th>\n",
       "      <th>Twos</th>\n",
       "      <th>Threes</th>\n",
       "    </tr>\n",
       "    <tr>\n",
       "      <th>PlayerName</th>\n",
       "      <th></th>\n",
       "      <th></th>\n",
       "      <th></th>\n",
       "      <th></th>\n",
       "      <th></th>\n",
       "      <th></th>\n",
       "    </tr>\n",
       "  </thead>\n",
       "  <tbody>\n",
       "    <tr>\n",
       "      <th>Jos Buttler</th>\n",
       "      <td>863</td>\n",
       "      <td>83</td>\n",
       "      <td>45</td>\n",
       "      <td>185</td>\n",
       "      <td>33</td>\n",
       "      <td>2</td>\n",
       "    </tr>\n",
       "  </tbody>\n",
       "</table>\n",
       "</div>"
      ],
      "text/plain": [
       "             Runs  Fours  Sixes  Ones  Twos  Threes\n",
       "PlayerName                                         \n",
       "Jos Buttler   863     83     45   185    33       2"
      ]
     },
     "execution_count": 13,
     "metadata": {},
     "output_type": "execute_result"
    }
   ],
   "source": [
    "orange_cap=Bat_df[[\"Runs\",\"PlayerName\",\"Fours\",\"Sixes\",\"Ones\",\"Twos\",\"Threes\"]].groupby(\"PlayerName\").sum().sort_values(\"Runs\",ascending=False).head(1)\n",
    "orange_cap"
   ]
  },
  {
   "cell_type": "markdown",
   "metadata": {},
   "source": [
    "**Top 10 Batsman In IPL 2022**"
   ]
  },
  {
   "cell_type": "code",
   "execution_count": 14,
   "metadata": {},
   "outputs": [
    {
     "data": {
      "text/html": [
       "<div>\n",
       "<style scoped>\n",
       "    .dataframe tbody tr th:only-of-type {\n",
       "        vertical-align: middle;\n",
       "    }\n",
       "\n",
       "    .dataframe tbody tr th {\n",
       "        vertical-align: top;\n",
       "    }\n",
       "\n",
       "    .dataframe thead th {\n",
       "        text-align: right;\n",
       "    }\n",
       "</style>\n",
       "<table border=\"1\" class=\"dataframe\">\n",
       "  <thead>\n",
       "    <tr style=\"text-align: right;\">\n",
       "      <th></th>\n",
       "      <th>Runs</th>\n",
       "      <th>Balls</th>\n",
       "      <th>Fours</th>\n",
       "      <th>Sixes</th>\n",
       "      <th>DotBalls</th>\n",
       "    </tr>\n",
       "    <tr>\n",
       "      <th>PlayerName</th>\n",
       "      <th></th>\n",
       "      <th></th>\n",
       "      <th></th>\n",
       "      <th></th>\n",
       "      <th></th>\n",
       "    </tr>\n",
       "  </thead>\n",
       "  <tbody>\n",
       "    <tr>\n",
       "      <th>Jos Buttler</th>\n",
       "      <td>863</td>\n",
       "      <td>579</td>\n",
       "      <td>83</td>\n",
       "      <td>45</td>\n",
       "      <td>230</td>\n",
       "    </tr>\n",
       "    <tr>\n",
       "      <th>K L Rahul</th>\n",
       "      <td>616</td>\n",
       "      <td>455</td>\n",
       "      <td>45</td>\n",
       "      <td>30</td>\n",
       "      <td>151</td>\n",
       "    </tr>\n",
       "    <tr>\n",
       "      <th>Quinton De Kock</th>\n",
       "      <td>508</td>\n",
       "      <td>341</td>\n",
       "      <td>47</td>\n",
       "      <td>23</td>\n",
       "      <td>115</td>\n",
       "    </tr>\n",
       "    <tr>\n",
       "      <th>Hardik Pandya</th>\n",
       "      <td>487</td>\n",
       "      <td>371</td>\n",
       "      <td>49</td>\n",
       "      <td>12</td>\n",
       "      <td>119</td>\n",
       "    </tr>\n",
       "    <tr>\n",
       "      <th>Shubman Gill</th>\n",
       "      <td>483</td>\n",
       "      <td>365</td>\n",
       "      <td>51</td>\n",
       "      <td>11</td>\n",
       "      <td>117</td>\n",
       "    </tr>\n",
       "    <tr>\n",
       "      <th>David Miller</th>\n",
       "      <td>481</td>\n",
       "      <td>337</td>\n",
       "      <td>32</td>\n",
       "      <td>23</td>\n",
       "      <td>95</td>\n",
       "    </tr>\n",
       "    <tr>\n",
       "      <th>Faf Du Plessis</th>\n",
       "      <td>468</td>\n",
       "      <td>367</td>\n",
       "      <td>49</td>\n",
       "      <td>13</td>\n",
       "      <td>145</td>\n",
       "    </tr>\n",
       "    <tr>\n",
       "      <th>Shikhar Dhawan</th>\n",
       "      <td>460</td>\n",
       "      <td>375</td>\n",
       "      <td>47</td>\n",
       "      <td>12</td>\n",
       "      <td>141</td>\n",
       "    </tr>\n",
       "    <tr>\n",
       "      <th>Sanju Samson</th>\n",
       "      <td>458</td>\n",
       "      <td>312</td>\n",
       "      <td>43</td>\n",
       "      <td>26</td>\n",
       "      <td>129</td>\n",
       "    </tr>\n",
       "    <tr>\n",
       "      <th>Deepak Hooda</th>\n",
       "      <td>451</td>\n",
       "      <td>330</td>\n",
       "      <td>36</td>\n",
       "      <td>18</td>\n",
       "      <td>104</td>\n",
       "    </tr>\n",
       "  </tbody>\n",
       "</table>\n",
       "</div>"
      ],
      "text/plain": [
       "                 Runs  Balls  Fours  Sixes  DotBalls\n",
       "PlayerName                                          \n",
       "Jos Buttler       863    579     83     45       230\n",
       "K L Rahul         616    455     45     30       151\n",
       "Quinton De Kock   508    341     47     23       115\n",
       "Hardik Pandya     487    371     49     12       119\n",
       "Shubman Gill      483    365     51     11       117\n",
       "David Miller      481    337     32     23        95\n",
       "Faf Du Plessis    468    367     49     13       145\n",
       "Shikhar Dhawan    460    375     47     12       141\n",
       "Sanju Samson      458    312     43     26       129\n",
       "Deepak Hooda      451    330     36     18       104"
      ]
     },
     "execution_count": 14,
     "metadata": {},
     "output_type": "execute_result"
    }
   ],
   "source": [
    "Top_Batsman = Bat_df[[\"Runs\",\"Balls\",\"PlayerName\",\"Fours\",\"Sixes\",\"StrikeRate\",\"DotBalls\"]].groupby(\"PlayerName\").sum().sort_values(\"Runs\",ascending=False).head(10)\n",
    "Top_Batsman\n",
    "#Top 5 players in batting in IPL2022"
   ]
  },
  {
   "cell_type": "markdown",
   "metadata": {},
   "source": [
    "**Teams with their total 1s,2s,3s,4s,6s**"
   ]
  },
  {
   "cell_type": "code",
   "execution_count": 15,
   "metadata": {},
   "outputs": [
    {
     "data": {
      "text/html": [
       "<div>\n",
       "<style scoped>\n",
       "    .dataframe tbody tr th:only-of-type {\n",
       "        vertical-align: middle;\n",
       "    }\n",
       "\n",
       "    .dataframe tbody tr th {\n",
       "        vertical-align: top;\n",
       "    }\n",
       "\n",
       "    .dataframe thead th {\n",
       "        text-align: right;\n",
       "    }\n",
       "</style>\n",
       "<table border=\"1\" class=\"dataframe\">\n",
       "  <thead>\n",
       "    <tr style=\"text-align: right;\">\n",
       "      <th></th>\n",
       "      <th>Fours</th>\n",
       "      <th>Sixes</th>\n",
       "      <th>Twos</th>\n",
       "      <th>Ones</th>\n",
       "      <th>Threes</th>\n",
       "    </tr>\n",
       "    <tr>\n",
       "      <th>Team</th>\n",
       "      <th></th>\n",
       "      <th></th>\n",
       "      <th></th>\n",
       "      <th></th>\n",
       "      <th></th>\n",
       "    </tr>\n",
       "  </thead>\n",
       "  <tbody>\n",
       "    <tr>\n",
       "      <th>CSK</th>\n",
       "      <td>183</td>\n",
       "      <td>103</td>\n",
       "      <td>91</td>\n",
       "      <td>617</td>\n",
       "      <td>4</td>\n",
       "    </tr>\n",
       "    <tr>\n",
       "      <th>DC</th>\n",
       "      <td>205</td>\n",
       "      <td>106</td>\n",
       "      <td>82</td>\n",
       "      <td>574</td>\n",
       "      <td>8</td>\n",
       "    </tr>\n",
       "    <tr>\n",
       "      <th>GT</th>\n",
       "      <td>250</td>\n",
       "      <td>79</td>\n",
       "      <td>121</td>\n",
       "      <td>795</td>\n",
       "      <td>2</td>\n",
       "    </tr>\n",
       "    <tr>\n",
       "      <th>KKR</th>\n",
       "      <td>177</td>\n",
       "      <td>113</td>\n",
       "      <td>98</td>\n",
       "      <td>509</td>\n",
       "      <td>6</td>\n",
       "    </tr>\n",
       "    <tr>\n",
       "      <th>LSG</th>\n",
       "      <td>188</td>\n",
       "      <td>115</td>\n",
       "      <td>118</td>\n",
       "      <td>712</td>\n",
       "      <td>5</td>\n",
       "    </tr>\n",
       "    <tr>\n",
       "      <th>MI</th>\n",
       "      <td>173</td>\n",
       "      <td>100</td>\n",
       "      <td>103</td>\n",
       "      <td>587</td>\n",
       "      <td>5</td>\n",
       "    </tr>\n",
       "    <tr>\n",
       "      <th>PBSK</th>\n",
       "      <td>200</td>\n",
       "      <td>110</td>\n",
       "      <td>79</td>\n",
       "      <td>560</td>\n",
       "      <td>5</td>\n",
       "    </tr>\n",
       "    <tr>\n",
       "      <th>RCB</th>\n",
       "      <td>222</td>\n",
       "      <td>102</td>\n",
       "      <td>116</td>\n",
       "      <td>680</td>\n",
       "      <td>14</td>\n",
       "    </tr>\n",
       "    <tr>\n",
       "      <th>RR</th>\n",
       "      <td>249</td>\n",
       "      <td>137</td>\n",
       "      <td>115</td>\n",
       "      <td>736</td>\n",
       "      <td>5</td>\n",
       "    </tr>\n",
       "    <tr>\n",
       "      <th>SRH</th>\n",
       "      <td>170</td>\n",
       "      <td>97</td>\n",
       "      <td>98</td>\n",
       "      <td>614</td>\n",
       "      <td>4</td>\n",
       "    </tr>\n",
       "  </tbody>\n",
       "</table>\n",
       "</div>"
      ],
      "text/plain": [
       "      Fours  Sixes  Twos  Ones  Threes\n",
       "Team                                  \n",
       "CSK     183    103    91   617       4\n",
       "DC      205    106    82   574       8\n",
       "GT      250     79   121   795       2\n",
       "KKR     177    113    98   509       6\n",
       "LSG     188    115   118   712       5\n",
       "MI      173    100   103   587       5\n",
       "PBSK    200    110    79   560       5\n",
       "RCB     222    102   116   680      14\n",
       "RR      249    137   115   736       5\n",
       "SRH     170     97    98   614       4"
      ]
     },
     "execution_count": 15,
     "metadata": {},
     "output_type": "execute_result"
    }
   ],
   "source": [
    "Graph_df=Bat_df[[\"PlayerName\",\"Fours\",\"Sixes\",\"Twos\",\"Ones\",\"Threes\",\"Team\"]].groupby(\"Team\").sum()\n",
    "Graph_df"
   ]
  },
  {
   "cell_type": "markdown",
   "metadata": {},
   "source": [
    "**Team Graph with their 1s,2s,3s,4s,6s**"
   ]
  },
  {
   "cell_type": "code",
   "execution_count": 16,
   "metadata": {},
   "outputs": [],
   "source": [
    "#Creating a User define function for plotting the graph for each Team so that we can plot all the teams in one logic\n",
    "def Graph(team):  \n",
    "    Ipl_team=Bat_df[(Bat_df['Team']==f'{team}')]\n",
    "    ones=Ipl_team.Ones.sum()\n",
    "    Twos=Ipl_team.Twos.sum()\n",
    "    Threes=Ipl_team.Threes.sum()\n",
    "    Fours=Ipl_team.Fours.sum()\n",
    "    Sixes=Ipl_team.Sixes.sum()\n",
    "    list_ipl_team = []\n",
    "    list_ipl_team.append(ones)\n",
    "    list_ipl_team.append(Twos)\n",
    "    list_ipl_team.append(Threes)\n",
    "    list_ipl_team.append(Fours)\n",
    "    list_ipl_team.append(Sixes)\n",
    "    Graph=plt.subplot()\n",
    "    Graph.bar(['Ones','Twos','Threes','Fours','Sixes'],list_ipl_team,color=['red','green','blue','yellow','black'],width=0.9,label='Runs',align='center',alpha=1,edgecolor='black',linewidth=0.5)\n",
    "    plt.title(f\"Runs by {team}\")\n",
    "    #You can choose the team to be plot the graph"
   ]
  },
  {
   "cell_type": "code",
   "execution_count": 17,
   "metadata": {},
   "outputs": [
    {
     "data": {
      "image/png": "[encoded data removed]",
      "text/plain": [
       "<Figure size 432x288 with 1 Axes>"
      ]
     },
     "metadata": {
      "needs_background": "light"
     },
     "output_type": "display_data"
    }
   ],
   "source": [
    "Graph(\"GT\")\n",
    "#Using the user define function for plotting the graph for GT"
   ]
  },
  {
   "cell_type": "code",
   "execution_count": 18,
   "metadata": {},
   "outputs": [
    {
     "data": {
      "image/png": "[encoded data removed]",
      "text/plain": [
       "<Figure size 432x288 with 1 Axes>"
      ]
     },
     "metadata": {
      "needs_background": "light"
     },
     "output_type": "display_data"
    }
   ],
   "source": [
    "Graph(\"RCB\")\n",
    "#Using the user define function for plotting the graph for RCB"
   ]
  },
  {
   "cell_type": "code",
   "execution_count": 19,
   "metadata": {},
   "outputs": [
    {
     "data": {
      "image/png": "[encoded data removed]",
      "text/plain": [
       "<Figure size 432x288 with 1 Axes>"
      ]
     },
     "metadata": {
      "needs_background": "light"
     },
     "output_type": "display_data"
    }
   ],
   "source": [
    "Graph('KKR')\n",
    "#Using the user define function for plotting the graph for KKR"
   ]
  },
  {
   "cell_type": "markdown",
   "metadata": {},
   "source": [
    "**Batsman With Their Records**"
   ]
  },
  {
   "cell_type": "code",
   "execution_count": 20,
   "metadata": {},
   "outputs": [],
   "source": [
    "#Creating the user define function for player's Records in IPL 2022\n",
    "def player(name):\n",
    "    Player=Bat_df[Bat_df['PlayerName']==f'{name}']\n",
    "    Player_df=Player[['Runs','Balls','Fours','Sixes','DotBalls','AgainstFast','AgainstSpin','PlayerName']].groupby('PlayerName').sum().sort_values(\"Runs\",ascending=False)\n",
    "    print(Player_df)"
   ]
  },
  {
   "cell_type": "code",
   "execution_count": 21,
   "metadata": {},
   "outputs": [
    {
     "name": "stdout",
     "output_type": "stream",
     "text": [
      "            Runs  Balls  Fours  Sixes  DotBalls  AgainstFast  AgainstSpin\n",
      "PlayerName                                                               \n",
      "MS Dhoni     232    188     21     10        82          123           63\n"
     ]
    }
   ],
   "source": [
    "player('MS Dhoni')\n",
    "#Using the user define function for MS Dhoni's Records"
   ]
  },
  {
   "cell_type": "code",
   "execution_count": 22,
   "metadata": {},
   "outputs": [
    {
     "name": "stdout",
     "output_type": "stream",
     "text": [
      "              Runs  Balls  Fours  Sixes  DotBalls  AgainstFast  AgainstSpin\n",
      "PlayerName                                                                 \n",
      "Rohit Sharma   268    223     28     13       116          179           43\n"
     ]
    }
   ],
   "source": [
    "player('Rohit Sharma')\n",
    "#Using the user define function for Rohit Sharma's Records"
   ]
  },
  {
   "cell_type": "code",
   "execution_count": 23,
   "metadata": {},
   "outputs": [
    {
     "name": "stdout",
     "output_type": "stream",
     "text": [
      "                Runs  Balls  Fours  Sixes  DotBalls  AgainstFast  AgainstSpin\n",
      "PlayerName                                                                   \n",
      "Shikhar Dhawan   460    375     47     12       141          274           98\n"
     ]
    }
   ],
   "source": [
    "player('Shikhar Dhawan')\n",
    "#Using the user define function for Shikhar Dhawan's Records"
   ]
  },
  {
   "cell_type": "code",
   "execution_count": 24,
   "metadata": {},
   "outputs": [
    {
     "name": "stdout",
     "output_type": "stream",
     "text": [
      "                 Runs  Balls  Fours  Sixes  DotBalls  AgainstFast  AgainstSpin\n",
      "PlayerName                                                                    \n",
      "Ravindra Jadeja   116     98      6      5        33           68           30\n"
     ]
    }
   ],
   "source": [
    "player('Ravindra Jadeja')\n",
    "#Using the user define function for Ravindra Jadeja's Records"
   ]
  },
  {
   "cell_type": "code",
   "execution_count": 45,
   "metadata": {},
   "outputs": [
    {
     "name": "stdout",
     "output_type": "stream",
     "text": [
      "              Runs  Balls  Fours  Sixes  DotBalls  AgainstFast  AgainstSpin\n",
      "PlayerName                                                                 \n",
      "Shreyas Iyer   401    298     41     11       103          176          122\n"
     ]
    }
   ],
   "source": [
    "player('Shreyas Iyer')"
   ]
  },
  {
   "cell_type": "markdown",
   "metadata": {},
   "source": [
    "# BOWLING ANALYSIS"
   ]
  },
  {
   "cell_type": "code",
   "execution_count": 26,
   "metadata": {},
   "outputs": [
    {
     "data": {
      "text/html": [
       "<div>\n",
       "<style scoped>\n",
       "    .dataframe tbody tr th:only-of-type {\n",
       "        vertical-align: middle;\n",
       "    }\n",
       "\n",
       "    .dataframe tbody tr th {\n",
       "        vertical-align: top;\n",
       "    }\n",
       "\n",
       "    .dataframe thead th {\n",
       "        text-align: right;\n",
       "    }\n",
       "</style>\n",
       "<table border=\"1\" class=\"dataframe\">\n",
       "  <thead>\n",
       "    <tr style=\"text-align: right;\">\n",
       "      <th></th>\n",
       "      <th>MatchID</th>\n",
       "      <th>InningsNo</th>\n",
       "      <th>Team</th>\n",
       "      <th>PlayerName</th>\n",
       "      <th>Overs</th>\n",
       "      <th>Maidens</th>\n",
       "      <th>Runs</th>\n",
       "      <th>Wickets</th>\n",
       "      <th>Wides</th>\n",
       "      <th>NoBalls</th>\n",
       "      <th>Economy</th>\n",
       "      <th>BowlingOrder</th>\n",
       "      <th>TotalLegalBallsBowled</th>\n",
       "      <th>DotBalls</th>\n",
       "      <th>Ones</th>\n",
       "      <th>Twos</th>\n",
       "      <th>Threes</th>\n",
       "      <th>Fours</th>\n",
       "      <th>Sixes</th>\n",
       "      <th>StrikeRate</th>\n",
       "    </tr>\n",
       "  </thead>\n",
       "  <tbody>\n",
       "    <tr>\n",
       "      <th>613</th>\n",
       "      <td>53</td>\n",
       "      <td>2</td>\n",
       "      <td>LSG</td>\n",
       "      <td>Avesh Khan</td>\n",
       "      <td>3.0</td>\n",
       "      <td>1</td>\n",
       "      <td>19</td>\n",
       "      <td>3</td>\n",
       "      <td>2</td>\n",
       "      <td>0</td>\n",
       "      <td>6.33</td>\n",
       "      <td>3</td>\n",
       "      <td>18</td>\n",
       "      <td>11</td>\n",
       "      <td>3</td>\n",
       "      <td>2</td>\n",
       "      <td>0</td>\n",
       "      <td>1</td>\n",
       "      <td>1</td>\n",
       "      <td>6.0</td>\n",
       "    </tr>\n",
       "    <tr>\n",
       "      <th>145</th>\n",
       "      <td>13</td>\n",
       "      <td>1</td>\n",
       "      <td>RCB</td>\n",
       "      <td>Harshal Patel</td>\n",
       "      <td>4.0</td>\n",
       "      <td>0</td>\n",
       "      <td>18</td>\n",
       "      <td>1</td>\n",
       "      <td>2</td>\n",
       "      <td>0</td>\n",
       "      <td>4.50</td>\n",
       "      <td>5</td>\n",
       "      <td>24</td>\n",
       "      <td>11</td>\n",
       "      <td>12</td>\n",
       "      <td>0</td>\n",
       "      <td>0</td>\n",
       "      <td>1</td>\n",
       "      <td>0</td>\n",
       "      <td>24.0</td>\n",
       "    </tr>\n",
       "    <tr>\n",
       "      <th>13</th>\n",
       "      <td>2</td>\n",
       "      <td>1</td>\n",
       "      <td>DC</td>\n",
       "      <td>Axar Patel</td>\n",
       "      <td>4.0</td>\n",
       "      <td>0</td>\n",
       "      <td>40</td>\n",
       "      <td>0</td>\n",
       "      <td>0</td>\n",
       "      <td>0</td>\n",
       "      <td>10.00</td>\n",
       "      <td>3</td>\n",
       "      <td>24</td>\n",
       "      <td>3</td>\n",
       "      <td>14</td>\n",
       "      <td>2</td>\n",
       "      <td>0</td>\n",
       "      <td>4</td>\n",
       "      <td>1</td>\n",
       "      <td>0.0</td>\n",
       "    </tr>\n",
       "    <tr>\n",
       "      <th>475</th>\n",
       "      <td>41</td>\n",
       "      <td>2</td>\n",
       "      <td>KKR</td>\n",
       "      <td>Andre Russell</td>\n",
       "      <td>1.0</td>\n",
       "      <td>0</td>\n",
       "      <td>14</td>\n",
       "      <td>0</td>\n",
       "      <td>0</td>\n",
       "      <td>0</td>\n",
       "      <td>14.00</td>\n",
       "      <td>6</td>\n",
       "      <td>6</td>\n",
       "      <td>1</td>\n",
       "      <td>2</td>\n",
       "      <td>1</td>\n",
       "      <td>0</td>\n",
       "      <td>1</td>\n",
       "      <td>1</td>\n",
       "      <td>0.0</td>\n",
       "    </tr>\n",
       "    <tr>\n",
       "      <th>289</th>\n",
       "      <td>25</td>\n",
       "      <td>1</td>\n",
       "      <td>SRH</td>\n",
       "      <td>Jagadeesha Suchith</td>\n",
       "      <td>3.0</td>\n",
       "      <td>0</td>\n",
       "      <td>32</td>\n",
       "      <td>1</td>\n",
       "      <td>0</td>\n",
       "      <td>0</td>\n",
       "      <td>10.67</td>\n",
       "      <td>6</td>\n",
       "      <td>18</td>\n",
       "      <td>6</td>\n",
       "      <td>6</td>\n",
       "      <td>1</td>\n",
       "      <td>0</td>\n",
       "      <td>3</td>\n",
       "      <td>2</td>\n",
       "      <td>18.0</td>\n",
       "    </tr>\n",
       "  </tbody>\n",
       "</table>\n",
       "</div>"
      ],
      "text/plain": [
       "     MatchID  InningsNo Team          PlayerName  Overs  Maidens  Runs  \\\n",
       "613       53          2  LSG          Avesh Khan    3.0        1    19   \n",
       "145       13          1  RCB       Harshal Patel    4.0        0    18   \n",
       "13         2          1   DC          Axar Patel    4.0        0    40   \n",
       "475       41          2  KKR       Andre Russell    1.0        0    14   \n",
       "289       25          1  SRH  Jagadeesha Suchith    3.0        0    32   \n",
       "\n",
       "     Wickets  Wides  NoBalls  Economy  BowlingOrder  TotalLegalBallsBowled  \\\n",
       "613        3      2        0     6.33             3                     18   \n",
       "145        1      2        0     4.50             5                     24   \n",
       "13         0      0        0    10.00             3                     24   \n",
       "475        0      0        0    14.00             6                      6   \n",
       "289        1      0        0    10.67             6                     18   \n",
       "\n",
       "     DotBalls  Ones  Twos  Threes  Fours  Sixes  StrikeRate  \n",
       "613        11     3     2       0      1      1         6.0  \n",
       "145        11    12     0       0      1      0        24.0  \n",
       "13          3    14     2       0      4      1         0.0  \n",
       "475         1     2     1       0      1      1         0.0  \n",
       "289         6     6     1       0      3      2        18.0  "
      ]
     },
     "execution_count": 26,
     "metadata": {},
     "output_type": "execute_result"
    }
   ],
   "source": [
    "Bowl_df = pd.read_csv('bowling.csv')\n",
    "#Reading the Bowlinng CSV\n",
    "Bowl_df.sample(5)\n",
    "#Taking the sample from the DataFrame"
   ]
  },
  {
   "cell_type": "code",
   "execution_count": 27,
   "metadata": {},
   "outputs": [
    {
     "name": "stdout",
     "output_type": "stream",
     "text": [
      "<class 'pandas.core.frame.DataFrame'>\n",
      "RangeIndex: 857 entries, 0 to 856\n",
      "Data columns (total 20 columns):\n",
      " #   Column                 Non-Null Count  Dtype  \n",
      "---  ------                 --------------  -----  \n",
      " 0   MatchID                857 non-null    int64  \n",
      " 1   InningsNo              857 non-null    int64  \n",
      " 2   Team                   857 non-null    object \n",
      " 3   PlayerName             857 non-null    object \n",
      " 4   Overs                  857 non-null    float64\n",
      " 5   Maidens                857 non-null    int64  \n",
      " 6   Runs                   857 non-null    int64  \n",
      " 7   Wickets                857 non-null    int64  \n",
      " 8   Wides                  857 non-null    int64  \n",
      " 9   NoBalls                857 non-null    int64  \n",
      " 10  Economy                857 non-null    float64\n",
      " 11  BowlingOrder           857 non-null    int64  \n",
      " 12  TotalLegalBallsBowled  857 non-null    int64  \n",
      " 13  DotBalls               857 non-null    int64  \n",
      " 14  Ones                   857 non-null    int64  \n",
      " 15  Twos                   857 non-null    int64  \n",
      " 16  Threes                 857 non-null    int64  \n",
      " 17  Fours                  857 non-null    int64  \n",
      " 18  Sixes                  857 non-null    int64  \n",
      " 19  StrikeRate             857 non-null    float64\n",
      "dtypes: float64(3), int64(15), object(2)\n",
      "memory usage: 134.0+ KB\n"
     ]
    }
   ],
   "source": [
    "Bowl_df.info()\n",
    "##For checking the index dtype and column dtypes, non-null values and memory usage."
   ]
  },
  {
   "cell_type": "code",
   "execution_count": 28,
   "metadata": {},
   "outputs": [
    {
     "data": {
      "text/html": [
       "<div>\n",
       "<style scoped>\n",
       "    .dataframe tbody tr th:only-of-type {\n",
       "        vertical-align: middle;\n",
       "    }\n",
       "\n",
       "    .dataframe tbody tr th {\n",
       "        vertical-align: top;\n",
       "    }\n",
       "\n",
       "    .dataframe thead th {\n",
       "        text-align: right;\n",
       "    }\n",
       "</style>\n",
       "<table border=\"1\" class=\"dataframe\">\n",
       "  <thead>\n",
       "    <tr style=\"text-align: right;\">\n",
       "      <th></th>\n",
       "      <th>MatchID</th>\n",
       "      <th>InningsNo</th>\n",
       "      <th>Overs</th>\n",
       "      <th>Maidens</th>\n",
       "      <th>Runs</th>\n",
       "      <th>Wickets</th>\n",
       "      <th>Wides</th>\n",
       "      <th>NoBalls</th>\n",
       "      <th>Economy</th>\n",
       "      <th>BowlingOrder</th>\n",
       "      <th>TotalLegalBallsBowled</th>\n",
       "      <th>DotBalls</th>\n",
       "      <th>Ones</th>\n",
       "      <th>Twos</th>\n",
       "      <th>Threes</th>\n",
       "      <th>Fours</th>\n",
       "      <th>Sixes</th>\n",
       "      <th>StrikeRate</th>\n",
       "    </tr>\n",
       "  </thead>\n",
       "  <tbody>\n",
       "    <tr>\n",
       "      <th>count</th>\n",
       "      <td>857.00000</td>\n",
       "      <td>857.000000</td>\n",
       "      <td>857.000000</td>\n",
       "      <td>857.000000</td>\n",
       "      <td>857.000000</td>\n",
       "      <td>857.000000</td>\n",
       "      <td>857.000000</td>\n",
       "      <td>857.000000</td>\n",
       "      <td>857.000000</td>\n",
       "      <td>857.000000</td>\n",
       "      <td>857.000000</td>\n",
       "      <td>857.000000</td>\n",
       "      <td>857.000000</td>\n",
       "      <td>857.000000</td>\n",
       "      <td>857.000000</td>\n",
       "      <td>857.000000</td>\n",
       "      <td>857.000000</td>\n",
       "      <td>857.000000</td>\n",
       "    </tr>\n",
       "    <tr>\n",
       "      <th>mean</th>\n",
       "      <td>37.36056</td>\n",
       "      <td>1.500583</td>\n",
       "      <td>3.322520</td>\n",
       "      <td>0.032672</td>\n",
       "      <td>27.987165</td>\n",
       "      <td>0.990665</td>\n",
       "      <td>0.819137</td>\n",
       "      <td>0.084014</td>\n",
       "      <td>8.719253</td>\n",
       "      <td>3.427071</td>\n",
       "      <td>19.997666</td>\n",
       "      <td>7.737456</td>\n",
       "      <td>7.449242</td>\n",
       "      <td>1.191365</td>\n",
       "      <td>0.067678</td>\n",
       "      <td>2.439907</td>\n",
       "      <td>1.239207</td>\n",
       "      <td>9.571027</td>\n",
       "    </tr>\n",
       "    <tr>\n",
       "      <th>std</th>\n",
       "      <td>21.52524</td>\n",
       "      <td>0.500292</td>\n",
       "      <td>1.001841</td>\n",
       "      <td>0.184331</td>\n",
       "      <td>11.262110</td>\n",
       "      <td>1.074299</td>\n",
       "      <td>1.098515</td>\n",
       "      <td>0.301769</td>\n",
       "      <td>3.348249</td>\n",
       "      <td>1.703382</td>\n",
       "      <td>5.974439</td>\n",
       "      <td>3.876289</td>\n",
       "      <td>3.640383</td>\n",
       "      <td>1.183323</td>\n",
       "      <td>0.277831</td>\n",
       "      <td>1.724329</td>\n",
       "      <td>1.181023</td>\n",
       "      <td>9.633395</td>\n",
       "    </tr>\n",
       "    <tr>\n",
       "      <th>min</th>\n",
       "      <td>1.00000</td>\n",
       "      <td>1.000000</td>\n",
       "      <td>0.100000</td>\n",
       "      <td>0.000000</td>\n",
       "      <td>0.000000</td>\n",
       "      <td>0.000000</td>\n",
       "      <td>0.000000</td>\n",
       "      <td>0.000000</td>\n",
       "      <td>0.000000</td>\n",
       "      <td>1.000000</td>\n",
       "      <td>1.000000</td>\n",
       "      <td>0.000000</td>\n",
       "      <td>0.000000</td>\n",
       "      <td>0.000000</td>\n",
       "      <td>0.000000</td>\n",
       "      <td>0.000000</td>\n",
       "      <td>0.000000</td>\n",
       "      <td>0.000000</td>\n",
       "    </tr>\n",
       "    <tr>\n",
       "      <th>25%</th>\n",
       "      <td>19.00000</td>\n",
       "      <td>1.000000</td>\n",
       "      <td>3.000000</td>\n",
       "      <td>0.000000</td>\n",
       "      <td>20.000000</td>\n",
       "      <td>0.000000</td>\n",
       "      <td>0.000000</td>\n",
       "      <td>0.000000</td>\n",
       "      <td>6.500000</td>\n",
       "      <td>2.000000</td>\n",
       "      <td>18.000000</td>\n",
       "      <td>5.000000</td>\n",
       "      <td>5.000000</td>\n",
       "      <td>0.000000</td>\n",
       "      <td>0.000000</td>\n",
       "      <td>1.000000</td>\n",
       "      <td>0.000000</td>\n",
       "      <td>0.000000</td>\n",
       "    </tr>\n",
       "    <tr>\n",
       "      <th>50%</th>\n",
       "      <td>37.00000</td>\n",
       "      <td>2.000000</td>\n",
       "      <td>4.000000</td>\n",
       "      <td>0.000000</td>\n",
       "      <td>28.000000</td>\n",
       "      <td>1.000000</td>\n",
       "      <td>0.000000</td>\n",
       "      <td>0.000000</td>\n",
       "      <td>8.330000</td>\n",
       "      <td>3.000000</td>\n",
       "      <td>24.000000</td>\n",
       "      <td>8.000000</td>\n",
       "      <td>7.000000</td>\n",
       "      <td>1.000000</td>\n",
       "      <td>0.000000</td>\n",
       "      <td>2.000000</td>\n",
       "      <td>1.000000</td>\n",
       "      <td>8.000000</td>\n",
       "    </tr>\n",
       "    <tr>\n",
       "      <th>75%</th>\n",
       "      <td>56.00000</td>\n",
       "      <td>2.000000</td>\n",
       "      <td>4.000000</td>\n",
       "      <td>0.000000</td>\n",
       "      <td>36.000000</td>\n",
       "      <td>2.000000</td>\n",
       "      <td>1.000000</td>\n",
       "      <td>0.000000</td>\n",
       "      <td>10.500000</td>\n",
       "      <td>5.000000</td>\n",
       "      <td>24.000000</td>\n",
       "      <td>10.000000</td>\n",
       "      <td>10.000000</td>\n",
       "      <td>2.000000</td>\n",
       "      <td>0.000000</td>\n",
       "      <td>4.000000</td>\n",
       "      <td>2.000000</td>\n",
       "      <td>18.000000</td>\n",
       "    </tr>\n",
       "    <tr>\n",
       "      <th>max</th>\n",
       "      <td>76.00000</td>\n",
       "      <td>2.000000</td>\n",
       "      <td>4.000000</td>\n",
       "      <td>2.000000</td>\n",
       "      <td>64.000000</td>\n",
       "      <td>5.000000</td>\n",
       "      <td>6.000000</td>\n",
       "      <td>2.000000</td>\n",
       "      <td>36.000000</td>\n",
       "      <td>8.000000</td>\n",
       "      <td>24.000000</td>\n",
       "      <td>19.000000</td>\n",
       "      <td>18.000000</td>\n",
       "      <td>7.000000</td>\n",
       "      <td>3.000000</td>\n",
       "      <td>9.000000</td>\n",
       "      <td>6.000000</td>\n",
       "      <td>24.000000</td>\n",
       "    </tr>\n",
       "  </tbody>\n",
       "</table>\n",
       "</div>"
      ],
      "text/plain": [
       "         MatchID   InningsNo       Overs     Maidens        Runs     Wickets  \\\n",
       "count  857.00000  857.000000  857.000000  857.000000  857.000000  857.000000   \n",
       "mean    37.36056    1.500583    3.322520    0.032672   27.987165    0.990665   \n",
       "std     21.52524    0.500292    1.001841    0.184331   11.262110    1.074299   \n",
       "min      1.00000    1.000000    0.100000    0.000000    0.000000    0.000000   \n",
       "25%     19.00000    1.000000    3.000000    0.000000   20.000000    0.000000   \n",
       "50%     37.00000    2.000000    4.000000    0.000000   28.000000    1.000000   \n",
       "75%     56.00000    2.000000    4.000000    0.000000   36.000000    2.000000   \n",
       "max     76.00000    2.000000    4.000000    2.000000   64.000000    5.000000   \n",
       "\n",
       "            Wides     NoBalls     Economy  BowlingOrder  \\\n",
       "count  857.000000  857.000000  857.000000    857.000000   \n",
       "mean     0.819137    0.084014    8.719253      3.427071   \n",
       "std      1.098515    0.301769    3.348249      1.703382   \n",
       "min      0.000000    0.000000    0.000000      1.000000   \n",
       "25%      0.000000    0.000000    6.500000      2.000000   \n",
       "50%      0.000000    0.000000    8.330000      3.000000   \n",
       "75%      1.000000    0.000000   10.500000      5.000000   \n",
       "max      6.000000    2.000000   36.000000      8.000000   \n",
       "\n",
       "       TotalLegalBallsBowled    DotBalls        Ones        Twos      Threes  \\\n",
       "count             857.000000  857.000000  857.000000  857.000000  857.000000   \n",
       "mean               19.997666    7.737456    7.449242    1.191365    0.067678   \n",
       "std                 5.974439    3.876289    3.640383    1.183323    0.277831   \n",
       "min                 1.000000    0.000000    0.000000    0.000000    0.000000   \n",
       "25%                18.000000    5.000000    5.000000    0.000000    0.000000   \n",
       "50%                24.000000    8.000000    7.000000    1.000000    0.000000   \n",
       "75%                24.000000   10.000000   10.000000    2.000000    0.000000   \n",
       "max                24.000000   19.000000   18.000000    7.000000    3.000000   \n",
       "\n",
       "            Fours       Sixes  StrikeRate  \n",
       "count  857.000000  857.000000  857.000000  \n",
       "mean     2.439907    1.239207    9.571027  \n",
       "std      1.724329    1.181023    9.633395  \n",
       "min      0.000000    0.000000    0.000000  \n",
       "25%      1.000000    0.000000    0.000000  \n",
       "50%      2.000000    1.000000    8.000000  \n",
       "75%      4.000000    2.000000   18.000000  \n",
       "max      9.000000    6.000000   24.000000  "
      ]
     },
     "execution_count": 28,
     "metadata": {},
     "output_type": "execute_result"
    }
   ],
   "source": [
    "Bowl_df.describe()\n",
    "##For checking the Description of data in the data frame"
   ]
  },
  {
   "cell_type": "markdown",
   "metadata": {},
   "source": [
    "**How many bowlers played in IPl 2022**"
   ]
  },
  {
   "cell_type": "code",
   "execution_count": 29,
   "metadata": {},
   "outputs": [
    {
     "data": {
      "text/plain": [
       "125"
      ]
     },
     "execution_count": 29,
     "metadata": {},
     "output_type": "execute_result"
    }
   ],
   "source": [
    "Bowl_df.PlayerName.nunique()\n",
    "#To find out the number of the bowlers bowled in IPL 2022"
   ]
  },
  {
   "cell_type": "markdown",
   "metadata": {},
   "source": [
    "**List of the bowlers bowled in IPL 2022**"
   ]
  },
  {
   "cell_type": "code",
   "execution_count": 30,
   "metadata": {},
   "outputs": [
    {
     "data": {
      "text/plain": [
       "array(['Umesh Yadav', 'Shivam Mavi', 'Varun Chakaravarthy',\n",
       "       'Sunil Narine', 'Andre Russell', 'Tushar Deshpande', 'Adam Milne',\n",
       "       'Mitchell Santner', 'Dwayne Bravo', 'Shivam Dube',\n",
       "       'Ravindra Jadeja', 'Shardul Thakur', 'Khaleel Ahmed', 'Axar Patel',\n",
       "       'Kamlesh Nagarkoti', 'Kuldeep Yadav', 'Lalit Yadav', 'Daniel Sams',\n",
       "       'Jasprit Bumrah', 'Basil Thampi', 'Murugan Ashwin', 'Tymal Mills',\n",
       "       'Sandeep Sharma', 'Arshdeep Singh', 'Odean Smith', 'Rahul Chahar',\n",
       "       'Harpreet Brar', 'Liam Livingstone', 'David Willey',\n",
       "       'Mohammed Siraj', 'Shahbaz Ahmed', 'Akash Deep',\n",
       "       'Wanindu Hasaranga', 'Harshal Patel', 'Mohammad Shami',\n",
       "       'Varun Aaron', 'Lockie Ferguson', 'Hardik Pandya', 'Rashid Khan',\n",
       "       'Dushmantha Chameera', 'Avesh Khan', 'Mohsin Khan', 'Ravi Bishnoi',\n",
       "       'Krunal Pandya', 'Deepak Hooda', 'Bhuvneshwar Kumar',\n",
       "       'Romario Shepherd', 'Umran Malik', 'Washington Sundar',\n",
       "       'T Natarajan', 'Abhishek Sharma', 'Trent Boult', 'Prasidh Krishna',\n",
       "       'Nathan Coulter-Nile', 'Ravichandran Ashwin', 'Yuzvendra Chahal',\n",
       "       'Riyan Parag', 'Tim Southee', 'Venkatesh Iyer', 'Andrew Tye',\n",
       "       'Mukesh Choudhary', 'Moeen Ali', 'Dwaine Pretorius',\n",
       "       'Kagiso Rabada', 'Kieron Pollard', 'Navdeep Saini',\n",
       "       'Mustafizur Rahman', 'Vijay Shankar', 'Rahul Tewatia',\n",
       "       'Chris Jordan', 'Vaibhav Arora', 'Abdul Samad', 'Jason Holder',\n",
       "       'Yashasvi Jaiswal', 'Rasikh Salam', 'Pat Cummins', 'Tilak Varma',\n",
       "       'Krishnappa Gowtham', 'Anrich Nortje', 'Darshan Nalkande',\n",
       "       'Marco Jansen', 'Aiden Markram', 'Maheesh Theekshana',\n",
       "       'Jaydev Unadkat', 'Dewald Brevis', 'Rovman Powell', 'Kuldeep Sen',\n",
       "       'Josh Hazlewood', 'Glenn Maxwell', 'James Neesham', 'Yash Dayal',\n",
       "       'Shashank Singh', 'Jagadeesha Suchith', 'Aman Khan',\n",
       "       'Fabian Allen', 'Marcus Stoinis', 'Alzarri Joseph', 'Obed McCoy',\n",
       "       'Nathan Ellis', 'Riley Meredith', 'Hrithik Shokeen',\n",
       "       'Ayush Badoni', 'Rishi Dhawan', 'Daryl Mitchell',\n",
       "       'Chetan Sakariya', 'Harshit Rana', 'Nitish Rana', 'Shreyas Iyer',\n",
       "       'Pradeep Sangwan', 'Kumar Kartikeya Singh', 'Simarjeet Singh',\n",
       "       'Anukul Roy', 'Sean Abbott', 'Kartik Tyagi', 'Shreyas Gopal',\n",
       "       'Mitchell Marsh', 'Fazalhaq Farooqi', 'Mahipal Lomror',\n",
       "       'Sai Kishore', 'Ramandeep Singh', 'Prashant Solanki',\n",
       "       'Matheesha Pathirana', 'Sanjay Yadav', 'Mayank Markande',\n",
       "       'Siddarth Kaul'], dtype=object)"
      ]
     },
     "execution_count": 30,
     "metadata": {},
     "output_type": "execute_result"
    }
   ],
   "source": [
    "Bowl_df.PlayerName.unique()\n",
    "#To the bowlers's name bowled in 2022"
   ]
  },
  {
   "cell_type": "markdown",
   "metadata": {},
   "source": [
    "**How Many Total Wickets Had Been Taken By Each Team**"
   ]
  },
  {
   "cell_type": "code",
   "execution_count": 31,
   "metadata": {},
   "outputs": [
    {
     "data": {
      "text/html": [
       "<div>\n",
       "<style scoped>\n",
       "    .dataframe tbody tr th:only-of-type {\n",
       "        vertical-align: middle;\n",
       "    }\n",
       "\n",
       "    .dataframe tbody tr th {\n",
       "        vertical-align: top;\n",
       "    }\n",
       "\n",
       "    .dataframe thead th {\n",
       "        text-align: right;\n",
       "    }\n",
       "</style>\n",
       "<table border=\"1\" class=\"dataframe\">\n",
       "  <thead>\n",
       "    <tr style=\"text-align: right;\">\n",
       "      <th></th>\n",
       "      <th>Wickets</th>\n",
       "    </tr>\n",
       "    <tr>\n",
       "      <th>Team</th>\n",
       "      <th></th>\n",
       "    </tr>\n",
       "  </thead>\n",
       "  <tbody>\n",
       "    <tr>\n",
       "      <th>CSK</th>\n",
       "      <td>78</td>\n",
       "    </tr>\n",
       "    <tr>\n",
       "      <th>DC</th>\n",
       "      <td>86</td>\n",
       "    </tr>\n",
       "    <tr>\n",
       "      <th>GT</th>\n",
       "      <td>90</td>\n",
       "    </tr>\n",
       "    <tr>\n",
       "      <th>KKR</th>\n",
       "      <td>76</td>\n",
       "    </tr>\n",
       "    <tr>\n",
       "      <th>LSG</th>\n",
       "      <td>92</td>\n",
       "    </tr>\n",
       "    <tr>\n",
       "      <th>MI</th>\n",
       "      <td>82</td>\n",
       "    </tr>\n",
       "    <tr>\n",
       "      <th>PBSK</th>\n",
       "      <td>77</td>\n",
       "    </tr>\n",
       "    <tr>\n",
       "      <th>RCB</th>\n",
       "      <td>90</td>\n",
       "    </tr>\n",
       "    <tr>\n",
       "      <th>RR</th>\n",
       "      <td>97</td>\n",
       "    </tr>\n",
       "    <tr>\n",
       "      <th>SRH</th>\n",
       "      <td>81</td>\n",
       "    </tr>\n",
       "  </tbody>\n",
       "</table>\n",
       "</div>"
      ],
      "text/plain": [
       "      Wickets\n",
       "Team         \n",
       "CSK        78\n",
       "DC         86\n",
       "GT         90\n",
       "KKR        76\n",
       "LSG        92\n",
       "MI         82\n",
       "PBSK       77\n",
       "RCB        90\n",
       "RR         97\n",
       "SRH        81"
      ]
     },
     "execution_count": 31,
     "metadata": {},
     "output_type": "execute_result"
    }
   ],
   "source": [
    "Wicket_df = Bowl_df[['Team','Wickets']].groupby('Team').sum()\n",
    "Wicket_df"
   ]
  },
  {
   "cell_type": "markdown",
   "metadata": {},
   "source": [
    "**How Many Total Wides Had Been Bowled By Each Team**"
   ]
  },
  {
   "cell_type": "code",
   "execution_count": 32,
   "metadata": {},
   "outputs": [
    {
     "data": {
      "text/html": [
       "<div>\n",
       "<style scoped>\n",
       "    .dataframe tbody tr th:only-of-type {\n",
       "        vertical-align: middle;\n",
       "    }\n",
       "\n",
       "    .dataframe tbody tr th {\n",
       "        vertical-align: top;\n",
       "    }\n",
       "\n",
       "    .dataframe thead th {\n",
       "        text-align: right;\n",
       "    }\n",
       "</style>\n",
       "<table border=\"1\" class=\"dataframe\">\n",
       "  <thead>\n",
       "    <tr style=\"text-align: right;\">\n",
       "      <th></th>\n",
       "      <th>Wides</th>\n",
       "    </tr>\n",
       "    <tr>\n",
       "      <th>Team</th>\n",
       "      <th></th>\n",
       "    </tr>\n",
       "  </thead>\n",
       "  <tbody>\n",
       "    <tr>\n",
       "      <th>CSK</th>\n",
       "      <td>75</td>\n",
       "    </tr>\n",
       "    <tr>\n",
       "      <th>DC</th>\n",
       "      <td>65</td>\n",
       "    </tr>\n",
       "    <tr>\n",
       "      <th>GT</th>\n",
       "      <td>55</td>\n",
       "    </tr>\n",
       "    <tr>\n",
       "      <th>KKR</th>\n",
       "      <td>49</td>\n",
       "    </tr>\n",
       "    <tr>\n",
       "      <th>LSG</th>\n",
       "      <td>72</td>\n",
       "    </tr>\n",
       "    <tr>\n",
       "      <th>MI</th>\n",
       "      <td>73</td>\n",
       "    </tr>\n",
       "    <tr>\n",
       "      <th>PBSK</th>\n",
       "      <td>66</td>\n",
       "    </tr>\n",
       "    <tr>\n",
       "      <th>RCB</th>\n",
       "      <td>62</td>\n",
       "    </tr>\n",
       "    <tr>\n",
       "      <th>RR</th>\n",
       "      <td>110</td>\n",
       "    </tr>\n",
       "    <tr>\n",
       "      <th>SRH</th>\n",
       "      <td>75</td>\n",
       "    </tr>\n",
       "  </tbody>\n",
       "</table>\n",
       "</div>"
      ],
      "text/plain": [
       "      Wides\n",
       "Team       \n",
       "CSK      75\n",
       "DC       65\n",
       "GT       55\n",
       "KKR      49\n",
       "LSG      72\n",
       "MI       73\n",
       "PBSK     66\n",
       "RCB      62\n",
       "RR      110\n",
       "SRH      75"
      ]
     },
     "execution_count": 32,
     "metadata": {},
     "output_type": "execute_result"
    }
   ],
   "source": [
    "Wides_df = Bowl_df[['Team','Wides']].groupby('Team').sum()\n",
    "Wides_df"
   ]
  },
  {
   "cell_type": "markdown",
   "metadata": {},
   "source": [
    "**How Many Total NO Balls Had Been Bowled By Each Team**"
   ]
  },
  {
   "cell_type": "code",
   "execution_count": 33,
   "metadata": {},
   "outputs": [
    {
     "data": {
      "text/html": [
       "<div>\n",
       "<style scoped>\n",
       "    .dataframe tbody tr th:only-of-type {\n",
       "        vertical-align: middle;\n",
       "    }\n",
       "\n",
       "    .dataframe tbody tr th {\n",
       "        vertical-align: top;\n",
       "    }\n",
       "\n",
       "    .dataframe thead th {\n",
       "        text-align: right;\n",
       "    }\n",
       "</style>\n",
       "<table border=\"1\" class=\"dataframe\">\n",
       "  <thead>\n",
       "    <tr style=\"text-align: right;\">\n",
       "      <th></th>\n",
       "      <th>NoBalls</th>\n",
       "    </tr>\n",
       "    <tr>\n",
       "      <th>Team</th>\n",
       "      <th></th>\n",
       "    </tr>\n",
       "  </thead>\n",
       "  <tbody>\n",
       "    <tr>\n",
       "      <th>CSK</th>\n",
       "      <td>6</td>\n",
       "    </tr>\n",
       "    <tr>\n",
       "      <th>DC</th>\n",
       "      <td>7</td>\n",
       "    </tr>\n",
       "    <tr>\n",
       "      <th>GT</th>\n",
       "      <td>6</td>\n",
       "    </tr>\n",
       "    <tr>\n",
       "      <th>KKR</th>\n",
       "      <td>13</td>\n",
       "    </tr>\n",
       "    <tr>\n",
       "      <th>LSG</th>\n",
       "      <td>6</td>\n",
       "    </tr>\n",
       "    <tr>\n",
       "      <th>MI</th>\n",
       "      <td>2</td>\n",
       "    </tr>\n",
       "    <tr>\n",
       "      <th>PBSK</th>\n",
       "      <td>9</td>\n",
       "    </tr>\n",
       "    <tr>\n",
       "      <th>RCB</th>\n",
       "      <td>6</td>\n",
       "    </tr>\n",
       "    <tr>\n",
       "      <th>RR</th>\n",
       "      <td>8</td>\n",
       "    </tr>\n",
       "    <tr>\n",
       "      <th>SRH</th>\n",
       "      <td>9</td>\n",
       "    </tr>\n",
       "  </tbody>\n",
       "</table>\n",
       "</div>"
      ],
      "text/plain": [
       "      NoBalls\n",
       "Team         \n",
       "CSK         6\n",
       "DC          7\n",
       "GT          6\n",
       "KKR        13\n",
       "LSG         6\n",
       "MI          2\n",
       "PBSK        9\n",
       "RCB         6\n",
       "RR          8\n",
       "SRH         9"
      ]
     },
     "execution_count": 33,
     "metadata": {},
     "output_type": "execute_result"
    }
   ],
   "source": [
    "Noballs_df = Bowl_df[['Team','NoBalls']].groupby('Team').sum()\n",
    "Noballs_df"
   ]
  },
  {
   "cell_type": "markdown",
   "metadata": {},
   "source": [
    "**How Many Total Length Balls Were Bowled By Each Team**"
   ]
  },
  {
   "cell_type": "code",
   "execution_count": 34,
   "metadata": {},
   "outputs": [
    {
     "data": {
      "text/html": [
       "<div>\n",
       "<style scoped>\n",
       "    .dataframe tbody tr th:only-of-type {\n",
       "        vertical-align: middle;\n",
       "    }\n",
       "\n",
       "    .dataframe tbody tr th {\n",
       "        vertical-align: top;\n",
       "    }\n",
       "\n",
       "    .dataframe thead th {\n",
       "        text-align: right;\n",
       "    }\n",
       "</style>\n",
       "<table border=\"1\" class=\"dataframe\">\n",
       "  <thead>\n",
       "    <tr style=\"text-align: right;\">\n",
       "      <th></th>\n",
       "      <th>TotalLegalBallsBowled</th>\n",
       "    </tr>\n",
       "    <tr>\n",
       "      <th>Team</th>\n",
       "      <th></th>\n",
       "    </tr>\n",
       "  </thead>\n",
       "  <tbody>\n",
       "    <tr>\n",
       "      <th>CSK</th>\n",
       "      <td>1601</td>\n",
       "    </tr>\n",
       "    <tr>\n",
       "      <th>DC</th>\n",
       "      <td>1671</td>\n",
       "    </tr>\n",
       "    <tr>\n",
       "      <th>GT</th>\n",
       "      <td>1846</td>\n",
       "    </tr>\n",
       "    <tr>\n",
       "      <th>KKR</th>\n",
       "      <td>1632</td>\n",
       "    </tr>\n",
       "    <tr>\n",
       "      <th>LSG</th>\n",
       "      <td>1765</td>\n",
       "    </tr>\n",
       "    <tr>\n",
       "      <th>MI</th>\n",
       "      <td>1613</td>\n",
       "    </tr>\n",
       "    <tr>\n",
       "      <th>PBSK</th>\n",
       "      <td>1569</td>\n",
       "    </tr>\n",
       "    <tr>\n",
       "      <th>RCB</th>\n",
       "      <td>1817</td>\n",
       "    </tr>\n",
       "    <tr>\n",
       "      <th>RR</th>\n",
       "      <td>1996</td>\n",
       "    </tr>\n",
       "    <tr>\n",
       "      <th>SRH</th>\n",
       "      <td>1628</td>\n",
       "    </tr>\n",
       "  </tbody>\n",
       "</table>\n",
       "</div>"
      ],
      "text/plain": [
       "      TotalLegalBallsBowled\n",
       "Team                       \n",
       "CSK                    1601\n",
       "DC                     1671\n",
       "GT                     1846\n",
       "KKR                    1632\n",
       "LSG                    1765\n",
       "MI                     1613\n",
       "PBSK                   1569\n",
       "RCB                    1817\n",
       "RR                     1996\n",
       "SRH                    1628"
      ]
     },
     "execution_count": 34,
     "metadata": {},
     "output_type": "execute_result"
    }
   ],
   "source": [
    "lengthBall_df = Bowl_df[['Team','TotalLegalBallsBowled']].groupby('Team').sum()\n",
    "lengthBall_df"
   ]
  },
  {
   "cell_type": "markdown",
   "metadata": {},
   "source": [
    "**Graph Of Each Team with thier total Wickets**"
   ]
  },
  {
   "cell_type": "code",
   "execution_count": 35,
   "metadata": {},
   "outputs": [
    {
     "data": {
      "text/plain": [
       "Text(0.5, 1.0, 'Team and their Wickets')"
      ]
     },
     "execution_count": 35,
     "metadata": {},
     "output_type": "execute_result"
    },
    {
     "data": {
      "image/png": "[encoded data removed]",
      "text/plain": [
       "<Figure size 432x288 with 1 Axes>"
      ]
     },
     "metadata": {
      "needs_background": "light"
     },
     "output_type": "display_data"
    }
   ],
   "source": [
    "Wicket_df.plot.bar(color='yellow')\n",
    "plt.ylabel('Wickets')\n",
    "plt.title(\"Team and their Wickets\")"
   ]
  },
  {
   "cell_type": "markdown",
   "metadata": {},
   "source": [
    "**Graph Of Each Team with thier total Wide Balls**"
   ]
  },
  {
   "cell_type": "code",
   "execution_count": 36,
   "metadata": {},
   "outputs": [
    {
     "data": {
      "text/plain": [
       "Text(0.5, 1.0, 'Team and their Wides')"
      ]
     },
     "execution_count": 36,
     "metadata": {},
     "output_type": "execute_result"
    },
    {
     "data": {
      "image/png": "[encoded data removed]",
      "text/plain": [
       "<Figure size 432x288 with 1 Axes>"
      ]
     },
     "metadata": {
      "needs_background": "light"
     },
     "output_type": "display_data"
    }
   ],
   "source": [
    "Wides_df.plot.bar(color='black')\n",
    "plt.ylabel('Wides')\n",
    "plt.title(\"Team and their Wides\")"
   ]
  },
  {
   "cell_type": "markdown",
   "metadata": {},
   "source": [
    "**Graph Of Each Team with thier total NoBalls**"
   ]
  },
  {
   "cell_type": "code",
   "execution_count": 37,
   "metadata": {},
   "outputs": [
    {
     "data": {
      "text/plain": [
       "Text(0.5, 1.0, 'Team and their No Balls')"
      ]
     },
     "execution_count": 37,
     "metadata": {},
     "output_type": "execute_result"
    },
    {
     "data": {
      "image/png": "[encoded data removed]",
      "text/plain": [
       "<Figure size 432x288 with 1 Axes>"
      ]
     },
     "metadata": {
      "needs_background": "light"
     },
     "output_type": "display_data"
    }
   ],
   "source": [
    "Noballs_df.plot.bar(color='goldenrod')\n",
    "plt.ylabel('NO Balls')\n",
    "plt.title(\"Team and their No Balls\")"
   ]
  },
  {
   "cell_type": "markdown",
   "metadata": {},
   "source": [
    "**Graph Of Each Team with thier Total Legal Ball Bowled**"
   ]
  },
  {
   "cell_type": "code",
   "execution_count": 38,
   "metadata": {},
   "outputs": [
    {
     "data": {
      "text/plain": [
       "Text(0.5, 1.0, 'Team and their Total Legal Ball Bowled')"
      ]
     },
     "execution_count": 38,
     "metadata": {},
     "output_type": "execute_result"
    },
    {
     "data": {
      "image/png": "[encoded data removed]",
      "text/plain": [
       "<Figure size 432x288 with 1 Axes>"
      ]
     },
     "metadata": {
      "needs_background": "light"
     },
     "output_type": "display_data"
    }
   ],
   "source": [
    "lengthBall_df.plot.bar(color='red')\n",
    "plt.ylabel('Total Legal Ball Bowled')\n",
    "plt.title(\"Team and their Total Legal Ball Bowled\")"
   ]
  },
  {
   "cell_type": "markdown",
   "metadata": {},
   "source": [
    "**Purple Cap Holder**"
   ]
  },
  {
   "cell_type": "code",
   "execution_count": 39,
   "metadata": {},
   "outputs": [
    {
     "data": {
      "text/html": [
       "<div>\n",
       "<style scoped>\n",
       "    .dataframe tbody tr th:only-of-type {\n",
       "        vertical-align: middle;\n",
       "    }\n",
       "\n",
       "    .dataframe tbody tr th {\n",
       "        vertical-align: top;\n",
       "    }\n",
       "\n",
       "    .dataframe thead th {\n",
       "        text-align: right;\n",
       "    }\n",
       "</style>\n",
       "<table border=\"1\" class=\"dataframe\">\n",
       "  <thead>\n",
       "    <tr style=\"text-align: right;\">\n",
       "      <th></th>\n",
       "      <th>Wickets</th>\n",
       "      <th>Overs</th>\n",
       "      <th>DotBalls</th>\n",
       "      <th>Maidens</th>\n",
       "      <th>NoBalls</th>\n",
       "      <th>Wides</th>\n",
       "      <th>TotalLegalBallsBowled</th>\n",
       "    </tr>\n",
       "    <tr>\n",
       "      <th>PlayerName</th>\n",
       "      <th></th>\n",
       "      <th></th>\n",
       "      <th></th>\n",
       "      <th></th>\n",
       "      <th></th>\n",
       "      <th></th>\n",
       "      <th></th>\n",
       "    </tr>\n",
       "  </thead>\n",
       "  <tbody>\n",
       "    <tr>\n",
       "      <th>Yuzvendra Chahal</th>\n",
       "      <td>27</td>\n",
       "      <td>68.0</td>\n",
       "      <td>137</td>\n",
       "      <td>0</td>\n",
       "      <td>0</td>\n",
       "      <td>21</td>\n",
       "      <td>408</td>\n",
       "    </tr>\n",
       "  </tbody>\n",
       "</table>\n",
       "</div>"
      ],
      "text/plain": [
       "                  Wickets  Overs  DotBalls  Maidens  NoBalls  Wides  \\\n",
       "PlayerName                                                            \n",
       "Yuzvendra Chahal       27   68.0       137        0        0     21   \n",
       "\n",
       "                  TotalLegalBallsBowled  \n",
       "PlayerName                               \n",
       "Yuzvendra Chahal                    408  "
      ]
     },
     "execution_count": 39,
     "metadata": {},
     "output_type": "execute_result"
    }
   ],
   "source": [
    "Bowl_df[[\"Wickets\",\"Overs\",\"PlayerName\",\"DotBalls\",\"Maidens\",\"NoBalls\",\"Wides\",\"TotalLegalBallsBowled\"]].groupby(\"PlayerName\").sum().sort_values(\"Wickets\", ascending=False).head(1)"
   ]
  },
  {
   "cell_type": "markdown",
   "metadata": {},
   "source": [
    "**Top 10 Wicket Taker Bowlers in IPL 2022**"
   ]
  },
  {
   "cell_type": "code",
   "execution_count": 40,
   "metadata": {},
   "outputs": [
    {
     "data": {
      "text/html": [
       "<div>\n",
       "<style scoped>\n",
       "    .dataframe tbody tr th:only-of-type {\n",
       "        vertical-align: middle;\n",
       "    }\n",
       "\n",
       "    .dataframe tbody tr th {\n",
       "        vertical-align: top;\n",
       "    }\n",
       "\n",
       "    .dataframe thead th {\n",
       "        text-align: right;\n",
       "    }\n",
       "</style>\n",
       "<table border=\"1\" class=\"dataframe\">\n",
       "  <thead>\n",
       "    <tr style=\"text-align: right;\">\n",
       "      <th></th>\n",
       "      <th>Wickets</th>\n",
       "      <th>Overs</th>\n",
       "      <th>Maidens</th>\n",
       "      <th>Economy</th>\n",
       "    </tr>\n",
       "    <tr>\n",
       "      <th>PlayerName</th>\n",
       "      <th></th>\n",
       "      <th></th>\n",
       "      <th></th>\n",
       "      <th></th>\n",
       "    </tr>\n",
       "  </thead>\n",
       "  <tbody>\n",
       "    <tr>\n",
       "      <th>Yuzvendra Chahal</th>\n",
       "      <td>27</td>\n",
       "      <td>68.0</td>\n",
       "      <td>0</td>\n",
       "      <td>131.75</td>\n",
       "    </tr>\n",
       "    <tr>\n",
       "      <th>Wanindu Hasaranga</th>\n",
       "      <td>26</td>\n",
       "      <td>57.0</td>\n",
       "      <td>1</td>\n",
       "      <td>123.25</td>\n",
       "    </tr>\n",
       "    <tr>\n",
       "      <th>Kagiso Rabada</th>\n",
       "      <td>23</td>\n",
       "      <td>48.0</td>\n",
       "      <td>0</td>\n",
       "      <td>110.67</td>\n",
       "    </tr>\n",
       "    <tr>\n",
       "      <th>Umran Malik</th>\n",
       "      <td>22</td>\n",
       "      <td>49.1</td>\n",
       "      <td>1</td>\n",
       "      <td>129.92</td>\n",
       "    </tr>\n",
       "    <tr>\n",
       "      <th>Kuldeep Yadav</th>\n",
       "      <td>21</td>\n",
       "      <td>49.4</td>\n",
       "      <td>0</td>\n",
       "      <td>118.79</td>\n",
       "    </tr>\n",
       "    <tr>\n",
       "      <th>Mohammad Shami</th>\n",
       "      <td>20</td>\n",
       "      <td>61.0</td>\n",
       "      <td>0</td>\n",
       "      <td>128.17</td>\n",
       "    </tr>\n",
       "    <tr>\n",
       "      <th>Josh Hazlewood</th>\n",
       "      <td>20</td>\n",
       "      <td>46.3</td>\n",
       "      <td>1</td>\n",
       "      <td>98.12</td>\n",
       "    </tr>\n",
       "    <tr>\n",
       "      <th>Prasidh Krishna</th>\n",
       "      <td>19</td>\n",
       "      <td>66.3</td>\n",
       "      <td>3</td>\n",
       "      <td>140.85</td>\n",
       "    </tr>\n",
       "    <tr>\n",
       "      <th>Rashid Khan</th>\n",
       "      <td>19</td>\n",
       "      <td>63.5</td>\n",
       "      <td>0</td>\n",
       "      <td>105.51</td>\n",
       "    </tr>\n",
       "    <tr>\n",
       "      <th>Harshal Patel</th>\n",
       "      <td>19</td>\n",
       "      <td>53.3</td>\n",
       "      <td>2</td>\n",
       "      <td>114.41</td>\n",
       "    </tr>\n",
       "  </tbody>\n",
       "</table>\n",
       "</div>"
      ],
      "text/plain": [
       "                   Wickets  Overs  Maidens  Economy\n",
       "PlayerName                                         \n",
       "Yuzvendra Chahal        27   68.0        0   131.75\n",
       "Wanindu Hasaranga       26   57.0        1   123.25\n",
       "Kagiso Rabada           23   48.0        0   110.67\n",
       "Umran Malik             22   49.1        1   129.92\n",
       "Kuldeep Yadav           21   49.4        0   118.79\n",
       "Mohammad Shami          20   61.0        0   128.17\n",
       "Josh Hazlewood          20   46.3        1    98.12\n",
       "Prasidh Krishna         19   66.3        3   140.85\n",
       "Rashid Khan             19   63.5        0   105.51\n",
       "Harshal Patel           19   53.3        2   114.41"
      ]
     },
     "execution_count": 40,
     "metadata": {},
     "output_type": "execute_result"
    }
   ],
   "source": [
    "Top_bowlers = Bowl_df[[\"Wickets\",\"Overs\",\"Maidens\",\"Economy\",\"PlayerName\"]].groupby(\"PlayerName\").sum().sort_values('Wickets',ascending=False).head(10)\n",
    "Top_bowlers"
   ]
  },
  {
   "cell_type": "markdown",
   "metadata": {},
   "source": [
    "**Bowlers With their Records**"
   ]
  },
  {
   "cell_type": "code",
   "execution_count": 41,
   "metadata": {},
   "outputs": [],
   "source": [
    "##Creating the user define function for player's Records in IPL 2022\n",
    "def Bowler(name):\n",
    "    Player=Bowl_df[Bowl_df['PlayerName']==f'{name}']\n",
    "    player_bowl=Player[[\"Wickets\",\"Overs\",\"PlayerName\",\"DotBalls\",\"Maidens\",\"NoBalls\",\"Wides\"]].groupby(\"PlayerName\").sum().sort_values(\"Wickets\", ascending=False)\n",
    "    print(player_bowl)"
   ]
  },
  {
   "cell_type": "code",
   "execution_count": 42,
   "metadata": {},
   "outputs": [
    {
     "name": "stdout",
     "output_type": "stream",
     "text": [
      "             Wickets  Overs  DotBalls  Maidens  NoBalls  Wides\n",
      "PlayerName                                                    \n",
      "Shivam Mavi        5   22.0        49        0        2      8\n"
     ]
    }
   ],
   "source": [
    "Bowler('Shivam Mavi')\n",
    "#Using the user define function for Shivam Mavi's Records"
   ]
  },
  {
   "cell_type": "code",
   "execution_count": 43,
   "metadata": {},
   "outputs": [
    {
     "name": "stdout",
     "output_type": "stream",
     "text": [
      "               Wickets  Overs  DotBalls  Maidens  NoBalls  Wides\n",
      "PlayerName                                                      \n",
      "Kagiso Rabada       23   48.0       133        0        3     12\n"
     ]
    }
   ],
   "source": [
    "Bowler('Kagiso Rabada')\n",
    "#Using the user define function for Kagiso Rabada's Records"
   ]
  },
  {
   "cell_type": "code",
   "execution_count": 44,
   "metadata": {},
   "outputs": [
    {
     "name": "stdout",
     "output_type": "stream",
     "text": [
      "                 Wickets  Overs  DotBalls  Maidens  NoBalls  Wides\n",
      "PlayerName                                                        \n",
      "Ravindra Jadeja        5   33.0        65        0        0      5\n"
     ]
    }
   ],
   "source": [
    "Bowler('Ravindra Jadeja')\n",
    "#Using the user define function for Ravindra Jadeja's Records"
   ]
  }
 ],
 "metadata": {
  "interpreter": {
   "hash": "94336aa1ee91038f1f0bfae20001902f98c3d490ee2d44a1e2e60b67e6d5804c"
  },
  "kernelspec": {
   "display_name": "Python 3.9.7 ('base')",
   "language": "python",
   "name": "python3"
  },
  "language_info": {
   "codemirror_mode": {
    "name": "ipython",
    "version": 3
   },
   "file_extension": ".py",
   "mimetype": "text/x-python",
   "name": "python",
   "nbconvert_exporter": "python",
   "pygments_lexer": "ipython3",
   "version": "3.9.7"
  },
  "orig_nbformat": 4
 },
 "nbformat": 4,
 "nbformat_minor": 2
}
